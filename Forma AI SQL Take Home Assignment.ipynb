{
 "cells": [
  {
   "cell_type": "markdown",
   "metadata": {},
   "source": [
    "# Forma AI SQL Take Home Assignment\n",
    "\n",
    "The purpose of this notebook is to answer the questions laid out by Forma AI for the data analyst role.\n",
    "\n",
    "As a part of the assignment Forma AI has provided a SQLlite3 database and 5 questions. The questions will be reiterated in this notebook but more information can be found in the README file.\n",
    "\n",
    "The SQLlite3 database contains 3 tables.\n",
    "\n"
   ]
  }
 ],
 "metadata": {
  "kernelspec": {
   "display_name": "Python 3",
   "language": "python",
   "name": "python3"
  },
  "language_info": {
   "codemirror_mode": {
    "name": "ipython",
    "version": 3
   },
   "file_extension": ".py",
   "mimetype": "text/x-python",
   "name": "python",
   "nbconvert_exporter": "python",
   "pygments_lexer": "ipython3",
   "version": "3.7.6"
  }
 },
 "nbformat": 4,
 "nbformat_minor": 4
}
