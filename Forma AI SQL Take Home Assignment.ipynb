{
 "cells": [
  {
   "cell_type": "markdown",
   "metadata": {},
   "source": [
    "# Forma AI SQL Take Home Assignment\n",
    "\n",
    "The purpose of this notebook is to answer the questions laid out by Forma AI for the data analyst role.\n",
    "\n",
    "As a part of the assignment Forma AI has provided a SQLite3 database and 5 questions. The questions will be reiterated in this notebook but more information can be found in the README file.\n",
    "\n",
    "## The database\n",
    "\n",
    "The SQLite3 database contains 3 tables.\n",
    "\n",
    "The first table `transactions`, contains details about each product that a customer has purchased. A transaction is labeled by a 'trans_id' and can contain multiple products. Here are the columns in the `transactions` table:\n",
    "   * `trans_id`: the transaction id\n",
    "   * `cust_id`: the customer id\n",
    "   * `prod_id`: the product id\n",
    "   * `item_qty`: the quantity of the product that is being purchased\n",
    "   * `item_price`: the per unit price of the product (NOTE: the total revenue\n",
    "     for a product is `item_qty * item_price`)\n",
    "\n",
    "The second table `products`, contains details about each product. The columns in the `products` table are:\n",
    "   * `prod_id`: the product id (same meaning as in `transactions`)\n",
    "   * `prod_name`: the product name\n",
    "   * `brand`: the brand of the product\n",
    "   * `category`: the category of the product\n",
    "   \n",
    "Finally the third table `segments`, contains the history of each customer and which market segment they belong to. Segmentation is calculated periodically for current customers and are appended to this table. The most recent segment is labeled in the `active-flag` column by a `Y`. The columns in this table are:\n",
    "   * `cust_id`: the customer id (same meaning as in `transactions`)\n",
    "   * `seg_name`: the segment of this customer\n",
    "   * `update_dt`: the date when this segment was updated\n",
    "   * `active_flag`: whether or not this segment is the active segment for this customer\n",
    "\n",
    "\n",
    "## Reading the database\n",
    "\n",
    "Before we can begin answering the questions let us import the `sqlite` library and connecting to the database."
   ]
  },
  {
   "cell_type": "code",
   "execution_count": 15,
   "metadata": {},
   "outputs": [
    {
     "name": "stdout",
     "output_type": "stream",
     "text": [
      "[(1, '2016-01-02 10:06:00', 9085146, 223029, 1, 42.99), (2, '2016-01-02 10:30:00', 1215814, 252270, 1, 103.95), (2, '2016-01-02 10:30:00', 1215814, 260383, 1, 74.99), (4, '2016-01-02 11:33:00', 18511160, 269119, 1, 51.99), (4, '2016-01-02 11:33:00', 18511160, 411162, 1, 59.99)]\n",
      "[(0, 'cust_id', 'INTEGER', 0, None, 0), (1, 'seg_name', 'TEXT', 0, None, 0), (2, 'update_at', 'TIMESTAMP', 0, None, 0), (3, 'active_flag', 'TEXT', 0, None, 0)]\n"
     ]
    }
   ],
   "source": [
    "import sqlite3\n",
    "\n",
    "conn = sqlite3.connect('sample.db')\n",
    "\n",
    "sample_query = 'SELECT * FROM transactions;'\n",
    "sample_pull = conn.execute(sample_query).fetchmany(5)\n",
    "print(sample_pull)\n"
   ]
  },
  {
   "cell_type": "markdown",
   "metadata": {},
   "source": [
    "We see that our connection to the database is now established. We are ready to start answering the questions given us for the assessment.\n",
    "\n",
    "## Q1\n",
    "\n",
    "**Find the current active segment for each customer sorted by the segment\n",
    "   update date.  The output should contain three columns: `cust_id`,\n",
    "   `seg_name`, `updated_at`**\n",
    "   \n",
    "In order to create this table we would use the query: \n",
    "\"SELECT cust_id, \n",
    "        seg_name, \n",
    "        updated_dt AS updated_at \n",
    " FROM segments \n",
    " WHERE active_flag = Y\n",
    " ORDER BY updated_at DESC\"\n",
    " \n"
   ]
  },
  {
   "cell_type": "code",
   "execution_count": 16,
   "metadata": {},
   "outputs": [
    {
     "ename": "OperationalError",
     "evalue": "no such column: update_dt",
     "output_type": "error",
     "traceback": [
      "\u001b[1;31m---------------------------------------------------------------------------\u001b[0m",
      "\u001b[1;31mOperationalError\u001b[0m                          Traceback (most recent call last)",
      "\u001b[1;32m<ipython-input-16-14960437641e>\u001b[0m in \u001b[0;36m<module>\u001b[1;34m\u001b[0m\n\u001b[0;32m     10\u001b[0m '''\n\u001b[0;32m     11\u001b[0m \u001b[1;33m\u001b[0m\u001b[0m\n\u001b[1;32m---> 12\u001b[1;33m \u001b[0mquestion_1\u001b[0m \u001b[1;33m=\u001b[0m \u001b[0mconn\u001b[0m\u001b[1;33m.\u001b[0m\u001b[0mexecute\u001b[0m\u001b[1;33m(\u001b[0m\u001b[0mquery_1\u001b[0m\u001b[1;33m)\u001b[0m\u001b[1;33m.\u001b[0m\u001b[0mfetchall\u001b[0m\u001b[1;33m(\u001b[0m\u001b[1;33m)\u001b[0m\u001b[1;33m\u001b[0m\u001b[1;33m\u001b[0m\u001b[0m\n\u001b[0m\u001b[0;32m     13\u001b[0m \u001b[0mprint\u001b[0m\u001b[1;33m(\u001b[0m\u001b[0mquestion_1\u001b[0m\u001b[1;33m[\u001b[0m\u001b[1;33m:\u001b[0m\u001b[1;36m3\u001b[0m\u001b[1;33m]\u001b[0m\u001b[1;33m)\u001b[0m\u001b[1;33m\u001b[0m\u001b[1;33m\u001b[0m\u001b[0m\n",
      "\u001b[1;31mOperationalError\u001b[0m: no such column: update_dt"
     ]
    }
   ],
   "source": [
    "#Pulling the data using the sqlite3 library\n",
    "\n",
    "query_1 = '''\n",
    "SELECT cust_id,\n",
    "       seg_name,\n",
    "       update_dt AS updated_at\n",
    "FROM segments\n",
    "WHERE active_flag = Y\n",
    "ORDER BY updated_at DESC;\n",
    "'''\n",
    "\n",
    "question_1 = conn.execute(query_1).fetchall()\n",
    "print(question_1[:3])"
   ]
  },
  {
   "cell_type": "markdown",
   "metadata": {},
   "source": [
    "When we tried to run the query we got an error saying there was no such column `update_dt`. Let's query the column headers of the `segments` table to dive deeper."
   ]
  },
  {
   "cell_type": "code",
   "execution_count": 17,
   "metadata": {},
   "outputs": [
    {
     "name": "stdout",
     "output_type": "stream",
     "text": [
      "[(0, 'cust_id', 'INTEGER', 0, None, 0), (1, 'seg_name', 'TEXT', 0, None, 0), (2, 'update_at', 'TIMESTAMP', 0, None, 0), (3, 'active_flag', 'TEXT', 0, None, 0)]\n"
     ]
    }
   ],
   "source": [
    "print(conn.execute('PRAGMA table_info(segments)').fetchall())"
   ]
  }
 ],
 "metadata": {
  "kernelspec": {
   "display_name": "Python 3",
   "language": "python",
   "name": "python3"
  },
  "language_info": {
   "codemirror_mode": {
    "name": "ipython",
    "version": 3
   },
   "file_extension": ".py",
   "mimetype": "text/x-python",
   "name": "python",
   "nbconvert_exporter": "python",
   "pygments_lexer": "ipython3",
   "version": "3.7.6"
  }
 },
 "nbformat": 4,
 "nbformat_minor": 4
}
