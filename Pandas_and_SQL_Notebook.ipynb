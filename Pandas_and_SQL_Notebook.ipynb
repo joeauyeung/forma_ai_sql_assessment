{
 "cells": [
  {
   "cell_type": "markdown",
   "metadata": {},
   "source": [
    "# Forma AI SQL Take Home Assignment\n",
    "\n",
    "**Author: Joe Au-Yeung**\n",
    "\n",
    "The purpose of this notebook is to answer the questions laid out by Forma AI for SQL assignment for the the data analyst role.\n",
    "\n",
    "As a part of the assignment Forma AI has provided a SQLite3 database and 5 questions. The questions will be reiterated in this notebook but more information can be found in the README file.\n",
    "\n",
    "## The database\n",
    "\n",
    "The SQLite3 database contains 3 tables.\n",
    "\n",
    "The first table `transactions`, contains details about each product that a customer has purchased. A transaction is labeled by a `trans_id` and can contain multiple products. Here are the columns in the `transactions` table:\n",
    "   * `trans_id`: the transaction id\n",
    "   * `trans_dt`: the date that the transaction took place (*this was not originally included in the provided README file*)\n",
    "   * `cust_id`: the customer id\n",
    "   * `prod_id`: the product id\n",
    "   * `item_qty`: the quantity of the product that is being purchased\n",
    "   * `item_price`: the per unit price of the product (NOTE: the total revenue\n",
    "     for a product is `item_qty * item_price`)\n",
    "\n",
    "The second table `products`, contains details about each product. The columns in the `products` table are:\n",
    "   * `prod_id`: the product id (same meaning as in `transactions`)\n",
    "   * `prod_name`: the product name\n",
    "   * `brand`: the brand of the product\n",
    "   * `category`: the category of the product\n",
    "   \n",
    "Finally the third table `segments`, contains the history of each customer and which market segment they belong to. Segmentation is calculated periodically for current customers and are appended to this table. The most recent segment is labeled in the `active-flag` column by a `Y`. The columns in this table are:\n",
    "   * `cust_id`: the customer id (same meaning as in `transactions`)\n",
    "   * `seg_name`: the segment of this customer\n",
    "   * `update_at`: the date when this segment was updated (*in the original text file this was labeled as `update_dt` we later discovered the column was actually called `update_at`*)\n",
    "   * `active_flag`: whether or not this segment is the active segment for this customer\n",
    "\n",
    "\n",
    "## Reading the database\n",
    "\n",
    "Before we can begin answering the questions let us import the `sqlite3` library and connecting to the database."
   ]
  },
  {
   "cell_type": "code",
   "execution_count": 1,
   "metadata": {
    "scrolled": true
   },
   "outputs": [
    {
     "name": "stdout",
     "output_type": "stream",
     "text": [
      "[(1, '2016-01-02 10:06:00', 9085146, 223029, 1, 42.99), (2, '2016-01-02 10:30:00', 1215814, 252270, 1, 103.95), (2, '2016-01-02 10:30:00', 1215814, 260383, 1, 74.99), (4, '2016-01-02 11:33:00', 18511160, 269119, 1, 51.99), (4, '2016-01-02 11:33:00', 18511160, 411162, 1, 59.99)]\n"
     ]
    }
   ],
   "source": [
    "import sqlite3\n",
    "\n",
    "conn = sqlite3.connect('sample.db')\n",
    "\n",
    "sample_query = 'SELECT * FROM transactions;'\n",
    "sample_pull = conn.execute(sample_query).fetchmany(5)\n",
    "print(sample_pull)\n"
   ]
  },
  {
   "cell_type": "markdown",
   "metadata": {},
   "source": [
    "When pulling our sample query from the `transactions` table we notice another column that was not in the provided README file. Let us pull the column headers of the `transactions` table."
   ]
  },
  {
   "cell_type": "code",
   "execution_count": 2,
   "metadata": {},
   "outputs": [
    {
     "name": "stdout",
     "output_type": "stream",
     "text": [
      "[(0, 'trans_id', 'INTEGER', 0, None, 0), (1, 'trans_dt', 'TIMESTAMP', 0, None, 0), (2, 'cust_id', 'INTEGER', 0, None, 0), (3, 'prod_id', 'INTEGER', 0, None, 0), (4, 'item_qty', 'INTEGER', 0, None, 0), (5, 'item_price', 'REAL', 0, None, 0)]\n"
     ]
    }
   ],
   "source": [
    "print(conn.execute('PRAGMA TABLE_INFO(transactions);').fetchall())"
   ]
  },
  {
   "cell_type": "markdown",
   "metadata": {},
   "source": [
    "\n",
    "We see that this column is named `trans_dt`. Let us update our intro and begin answering the questions.\n",
    "\n",
    "## Question 1\n",
    "\n",
    "**Find the current active segment for each customer sorted by the segment\n",
    "   update date.  The output should contain three columns: `cust_id`,\n",
    "   `seg_name`, `updated_at`**\n",
    "   \n",
    "Let's assume that the `updated_at` column should be ordered in descending order. We will be using the `sqlite3` library."
   ]
  },
  {
   "cell_type": "code",
   "execution_count": 3,
   "metadata": {},
   "outputs": [
    {
     "name": "stdout",
     "output_type": "stream",
     "text": [
      "The column 'update_dt' does not exist\n"
     ]
    }
   ],
   "source": [
    "#Pulling the data using the sqlite3 library\n",
    "\n",
    "query_1 = '''\n",
    "SELECT cust_id,\n",
    "       seg_name,\n",
    "       update_dt AS updated_at\n",
    "FROM segments\n",
    "WHERE active_flag = Y\n",
    "ORDER BY updated_at DESC;\n",
    "'''\n",
    "\n",
    "#We add this try and accept block in order for the notebook to continue running\n",
    "try:\n",
    "    question_1 = conn.execute(query_1).fetchall()\n",
    "except:\n",
    "    print(\"The column 'update_dt' does not exist\")"
   ]
  },
  {
   "cell_type": "markdown",
   "metadata": {},
   "source": [
    "\n",
    "When we tried to run the query we got an error saying there was no such column `update_dt`. Let's query the column headers of the `segments` table to dive deeper."
   ]
  },
  {
   "cell_type": "code",
   "execution_count": 4,
   "metadata": {},
   "outputs": [
    {
     "name": "stdout",
     "output_type": "stream",
     "text": [
      "[(0, 'cust_id', 'INTEGER', 0, None, 0), (1, 'seg_name', 'TEXT', 0, None, 0), (2, 'update_at', 'TIMESTAMP', 0, None, 0), (3, 'active_flag', 'TEXT', 0, None, 0)]\n"
     ]
    }
   ],
   "source": [
    "print(conn.execute('PRAGMA TABLE_INFO(segments);').fetchall())"
   ]
  },
  {
   "cell_type": "markdown",
   "metadata": {},
   "source": [
    "\n",
    "We see that the column column describing when the segments were updated is called `update_at` not `update_dt`. Let us update our query with this new information."
   ]
  },
  {
   "cell_type": "code",
   "execution_count": 5,
   "metadata": {},
   "outputs": [
    {
     "name": "stdout",
     "output_type": "stream",
     "text": [
      "[(12064, 'INFREQUENT', '2016-06-01 00:00:00'), (106895, 'INFREQUENT', '2016-06-01 00:00:00'), (298867, 'ONE-OFFS', '2016-06-01 00:00:00')]\n"
     ]
    }
   ],
   "source": [
    "query_1 = '''\n",
    "SELECT cust_id,\n",
    "       seg_name,\n",
    "       update_at AS updated_at\n",
    "FROM segments\n",
    "WHERE active_flag = 'Y'\n",
    "ORDER BY updated_at DESC;\n",
    "'''\n",
    "\n",
    "question_1 = conn.execute(query_1).fetchall()\n",
    "print(question_1[:3])"
   ]
  },
  {
   "cell_type": "markdown",
   "metadata": {},
   "source": [
    "\n",
    "When working with data we I would be using `Pandas` to turn a pull into a dataframe to easily clean and analyze the data. Let's do that now."
   ]
  },
  {
   "cell_type": "code",
   "execution_count": 6,
   "metadata": {},
   "outputs": [
    {
     "data": {
      "text/html": [
       "<div>\n",
       "<style scoped>\n",
       "    .dataframe tbody tr th:only-of-type {\n",
       "        vertical-align: middle;\n",
       "    }\n",
       "\n",
       "    .dataframe tbody tr th {\n",
       "        vertical-align: top;\n",
       "    }\n",
       "\n",
       "    .dataframe thead th {\n",
       "        text-align: right;\n",
       "    }\n",
       "</style>\n",
       "<table border=\"1\" class=\"dataframe\">\n",
       "  <thead>\n",
       "    <tr style=\"text-align: right;\">\n",
       "      <th></th>\n",
       "      <th>cust_id</th>\n",
       "      <th>seg_name</th>\n",
       "      <th>updated_at</th>\n",
       "    </tr>\n",
       "  </thead>\n",
       "  <tbody>\n",
       "    <tr>\n",
       "      <th>0</th>\n",
       "      <td>12064</td>\n",
       "      <td>INFREQUENT</td>\n",
       "      <td>2016-06-01 00:00:00</td>\n",
       "    </tr>\n",
       "    <tr>\n",
       "      <th>1</th>\n",
       "      <td>106895</td>\n",
       "      <td>INFREQUENT</td>\n",
       "      <td>2016-06-01 00:00:00</td>\n",
       "    </tr>\n",
       "    <tr>\n",
       "      <th>2</th>\n",
       "      <td>298867</td>\n",
       "      <td>ONE-OFFS</td>\n",
       "      <td>2016-06-01 00:00:00</td>\n",
       "    </tr>\n",
       "    <tr>\n",
       "      <th>3</th>\n",
       "      <td>449146</td>\n",
       "      <td>INFREQUENT</td>\n",
       "      <td>2016-06-01 00:00:00</td>\n",
       "    </tr>\n",
       "    <tr>\n",
       "      <th>4</th>\n",
       "      <td>689576</td>\n",
       "      <td>ONE-OFFS</td>\n",
       "      <td>2016-06-01 00:00:00</td>\n",
       "    </tr>\n",
       "    <tr>\n",
       "      <th>...</th>\n",
       "      <td>...</td>\n",
       "      <td>...</td>\n",
       "      <td>...</td>\n",
       "    </tr>\n",
       "    <tr>\n",
       "      <th>1317</th>\n",
       "      <td>11259901</td>\n",
       "      <td>VIP</td>\n",
       "      <td>2014-03-01 00:00:00</td>\n",
       "    </tr>\n",
       "    <tr>\n",
       "      <th>1318</th>\n",
       "      <td>5764946</td>\n",
       "      <td>VIP</td>\n",
       "      <td>2014-01-01 00:00:00</td>\n",
       "    </tr>\n",
       "    <tr>\n",
       "      <th>1319</th>\n",
       "      <td>8042053</td>\n",
       "      <td>VIP</td>\n",
       "      <td>2014-01-01 00:00:00</td>\n",
       "    </tr>\n",
       "    <tr>\n",
       "      <th>1320</th>\n",
       "      <td>14075295</td>\n",
       "      <td>VIP</td>\n",
       "      <td>2014-01-01 00:00:00</td>\n",
       "    </tr>\n",
       "    <tr>\n",
       "      <th>1321</th>\n",
       "      <td>15509765</td>\n",
       "      <td>VIP</td>\n",
       "      <td>2014-01-01 00:00:00</td>\n",
       "    </tr>\n",
       "  </tbody>\n",
       "</table>\n",
       "<p>1322 rows × 3 columns</p>\n",
       "</div>"
      ],
      "text/plain": [
       "       cust_id    seg_name           updated_at\n",
       "0        12064  INFREQUENT  2016-06-01 00:00:00\n",
       "1       106895  INFREQUENT  2016-06-01 00:00:00\n",
       "2       298867    ONE-OFFS  2016-06-01 00:00:00\n",
       "3       449146  INFREQUENT  2016-06-01 00:00:00\n",
       "4       689576    ONE-OFFS  2016-06-01 00:00:00\n",
       "...        ...         ...                  ...\n",
       "1317  11259901         VIP  2014-03-01 00:00:00\n",
       "1318   5764946         VIP  2014-01-01 00:00:00\n",
       "1319   8042053         VIP  2014-01-01 00:00:00\n",
       "1320  14075295         VIP  2014-01-01 00:00:00\n",
       "1321  15509765         VIP  2014-01-01 00:00:00\n",
       "\n",
       "[1322 rows x 3 columns]"
      ]
     },
     "execution_count": 6,
     "metadata": {},
     "output_type": "execute_result"
    }
   ],
   "source": [
    "import pandas as pd\n",
    "\n",
    "question_1_df = pd.read_sql_query(query_1, conn)\n",
    "question_1_df"
   ]
  },
  {
   "cell_type": "markdown",
   "metadata": {},
   "source": [
    "## Question 2\n",
    "\n",
    "**For each product purchased between Jan 2016 and May 2016 (inclusive), find\n",
    "   the number of distinct transactions.  The output should contain `prod_id`,\n",
    "   `prod_name` and distinct transaction columns.**\n",
    "\n",
    "For this question we will use an inner join on the `transactions` table and the `products` table assuming that all product ids have an associated product name. We will also sort by the `count` column in descending order."
   ]
  },
  {
   "cell_type": "code",
   "execution_count": 7,
   "metadata": {},
   "outputs": [
    {
     "data": {
      "text/html": [
       "<div>\n",
       "<style scoped>\n",
       "    .dataframe tbody tr th:only-of-type {\n",
       "        vertical-align: middle;\n",
       "    }\n",
       "\n",
       "    .dataframe tbody tr th {\n",
       "        vertical-align: top;\n",
       "    }\n",
       "\n",
       "    .dataframe thead th {\n",
       "        text-align: right;\n",
       "    }\n",
       "</style>\n",
       "<table border=\"1\" class=\"dataframe\">\n",
       "  <thead>\n",
       "    <tr style=\"text-align: right;\">\n",
       "      <th></th>\n",
       "      <th>prod_id</th>\n",
       "      <th>prod_name</th>\n",
       "      <th>count</th>\n",
       "    </tr>\n",
       "  </thead>\n",
       "  <tbody>\n",
       "    <tr>\n",
       "      <th>0</th>\n",
       "      <td>226594814</td>\n",
       "      <td>Product 226594814</td>\n",
       "      <td>10</td>\n",
       "    </tr>\n",
       "    <tr>\n",
       "      <th>1</th>\n",
       "      <td>215734505</td>\n",
       "      <td>Product 215734505</td>\n",
       "      <td>10</td>\n",
       "    </tr>\n",
       "    <tr>\n",
       "      <th>2</th>\n",
       "      <td>138262084</td>\n",
       "      <td>Product 138262084</td>\n",
       "      <td>9</td>\n",
       "    </tr>\n",
       "    <tr>\n",
       "      <th>3</th>\n",
       "      <td>261231</td>\n",
       "      <td>Product 261231</td>\n",
       "      <td>9</td>\n",
       "    </tr>\n",
       "    <tr>\n",
       "      <th>4</th>\n",
       "      <td>220108</td>\n",
       "      <td>Product 220108</td>\n",
       "      <td>9</td>\n",
       "    </tr>\n",
       "    <tr>\n",
       "      <th>...</th>\n",
       "      <td>...</td>\n",
       "      <td>...</td>\n",
       "      <td>...</td>\n",
       "    </tr>\n",
       "    <tr>\n",
       "      <th>1804</th>\n",
       "      <td>211200</td>\n",
       "      <td>Product 211200</td>\n",
       "      <td>1</td>\n",
       "    </tr>\n",
       "    <tr>\n",
       "      <th>1805</th>\n",
       "      <td>209999</td>\n",
       "      <td>Product 209999</td>\n",
       "      <td>1</td>\n",
       "    </tr>\n",
       "    <tr>\n",
       "      <th>1806</th>\n",
       "      <td>209732</td>\n",
       "      <td>Product 209732</td>\n",
       "      <td>1</td>\n",
       "    </tr>\n",
       "    <tr>\n",
       "      <th>1807</th>\n",
       "      <td>207344</td>\n",
       "      <td>Product 207344</td>\n",
       "      <td>1</td>\n",
       "    </tr>\n",
       "    <tr>\n",
       "      <th>1808</th>\n",
       "      <td>199922</td>\n",
       "      <td>Product 199922</td>\n",
       "      <td>1</td>\n",
       "    </tr>\n",
       "  </tbody>\n",
       "</table>\n",
       "<p>1809 rows × 3 columns</p>\n",
       "</div>"
      ],
      "text/plain": [
       "        prod_id          prod_name  count\n",
       "0     226594814  Product 226594814     10\n",
       "1     215734505  Product 215734505     10\n",
       "2     138262084  Product 138262084      9\n",
       "3        261231     Product 261231      9\n",
       "4        220108     Product 220108      9\n",
       "...         ...                ...    ...\n",
       "1804     211200     Product 211200      1\n",
       "1805     209999     Product 209999      1\n",
       "1806     209732     Product 209732      1\n",
       "1807     207344     Product 207344      1\n",
       "1808     199922     Product 199922      1\n",
       "\n",
       "[1809 rows x 3 columns]"
      ]
     },
     "execution_count": 7,
     "metadata": {},
     "output_type": "execute_result"
    }
   ],
   "source": [
    "query_2 = '''\n",
    "SELECT t.prod_id,\n",
    "       p.prod_name,\n",
    "       SUM(item_qty) AS count\n",
    "FROM transactions t\n",
    "INNER JOIN products p ON t.prod_id = p.prod_id\n",
    "WHERE trans_dt BETWEEN '2016-01-01' AND '2016-05-31'\n",
    "GROUP BY t.prod_id\n",
    "ORDER BY count DESC;\n",
    "'''\n",
    "\n",
    "question_2_df = pd.read_sql_query(query_2, conn)\n",
    "question_2_df"
   ]
  },
  {
   "cell_type": "markdown",
   "metadata": {},
   "source": [
    "## Question 3\n",
    "\n",
    "**Find the most recent segment of each customer as of 2016-03-01.\n",
    "   *Hint*: You cannot simply use `active_flag` since that is as of the current\n",
    "   date *not* 2016-03-01.  The output should contain the `cust_id`, `seg_name`\n",
    "   and `update_at`  columns and should have at most one row per customer.**\n",
    "   \n",
    "Once again we will read our query into a dataframe. Since the segment updates just get appended to the table we can can find the max value of the `update_at` column for each `cust_id` as long as we filter the data for dates before March 2016."
   ]
  },
  {
   "cell_type": "code",
   "execution_count": 8,
   "metadata": {},
   "outputs": [
    {
     "data": {
      "text/html": [
       "<div>\n",
       "<style scoped>\n",
       "    .dataframe tbody tr th:only-of-type {\n",
       "        vertical-align: middle;\n",
       "    }\n",
       "\n",
       "    .dataframe tbody tr th {\n",
       "        vertical-align: top;\n",
       "    }\n",
       "\n",
       "    .dataframe thead th {\n",
       "        text-align: right;\n",
       "    }\n",
       "</style>\n",
       "<table border=\"1\" class=\"dataframe\">\n",
       "  <thead>\n",
       "    <tr style=\"text-align: right;\">\n",
       "      <th></th>\n",
       "      <th>cust_id</th>\n",
       "      <th>seg_name</th>\n",
       "      <th>update_at</th>\n",
       "    </tr>\n",
       "  </thead>\n",
       "  <tbody>\n",
       "    <tr>\n",
       "      <th>0</th>\n",
       "      <td>4402</td>\n",
       "      <td>ONE-OFFS</td>\n",
       "      <td>2016-02-01 00:00:00</td>\n",
       "    </tr>\n",
       "    <tr>\n",
       "      <th>1</th>\n",
       "      <td>11248</td>\n",
       "      <td>LOYAL</td>\n",
       "      <td>2016-02-01 00:00:00</td>\n",
       "    </tr>\n",
       "    <tr>\n",
       "      <th>2</th>\n",
       "      <td>12064</td>\n",
       "      <td>INFREQUENT</td>\n",
       "      <td>2016-02-01 00:00:00</td>\n",
       "    </tr>\n",
       "    <tr>\n",
       "      <th>3</th>\n",
       "      <td>15088</td>\n",
       "      <td>ONE-OFFS</td>\n",
       "      <td>2016-02-01 00:00:00</td>\n",
       "    </tr>\n",
       "    <tr>\n",
       "      <th>4</th>\n",
       "      <td>66706</td>\n",
       "      <td>ONE-OFFS</td>\n",
       "      <td>2016-02-01 00:00:00</td>\n",
       "    </tr>\n",
       "    <tr>\n",
       "      <th>...</th>\n",
       "      <td>...</td>\n",
       "      <td>...</td>\n",
       "      <td>...</td>\n",
       "    </tr>\n",
       "    <tr>\n",
       "      <th>995</th>\n",
       "      <td>21233469</td>\n",
       "      <td>NEW</td>\n",
       "      <td>2016-02-01 00:00:00</td>\n",
       "    </tr>\n",
       "    <tr>\n",
       "      <th>996</th>\n",
       "      <td>21233549</td>\n",
       "      <td>NEW</td>\n",
       "      <td>2016-02-01 00:00:00</td>\n",
       "    </tr>\n",
       "    <tr>\n",
       "      <th>997</th>\n",
       "      <td>21233596</td>\n",
       "      <td>NEW</td>\n",
       "      <td>2016-02-01 00:00:00</td>\n",
       "    </tr>\n",
       "    <tr>\n",
       "      <th>998</th>\n",
       "      <td>21233911</td>\n",
       "      <td>NEW</td>\n",
       "      <td>2016-02-01 00:00:00</td>\n",
       "    </tr>\n",
       "    <tr>\n",
       "      <th>999</th>\n",
       "      <td>21233988</td>\n",
       "      <td>NEW</td>\n",
       "      <td>2016-02-01 00:00:00</td>\n",
       "    </tr>\n",
       "  </tbody>\n",
       "</table>\n",
       "<p>1000 rows × 3 columns</p>\n",
       "</div>"
      ],
      "text/plain": [
       "      cust_id    seg_name            update_at\n",
       "0        4402    ONE-OFFS  2016-02-01 00:00:00\n",
       "1       11248       LOYAL  2016-02-01 00:00:00\n",
       "2       12064  INFREQUENT  2016-02-01 00:00:00\n",
       "3       15088    ONE-OFFS  2016-02-01 00:00:00\n",
       "4       66706    ONE-OFFS  2016-02-01 00:00:00\n",
       "..        ...         ...                  ...\n",
       "995  21233469         NEW  2016-02-01 00:00:00\n",
       "996  21233549         NEW  2016-02-01 00:00:00\n",
       "997  21233596         NEW  2016-02-01 00:00:00\n",
       "998  21233911         NEW  2016-02-01 00:00:00\n",
       "999  21233988         NEW  2016-02-01 00:00:00\n",
       "\n",
       "[1000 rows x 3 columns]"
      ]
     },
     "execution_count": 8,
     "metadata": {},
     "output_type": "execute_result"
    }
   ],
   "source": [
    "query_3 = '''\n",
    "SELECT cust_id,\n",
    "       seg_name,\n",
    "       MAX(update_at) AS update_at\n",
    "FROM segments\n",
    "WHERE update_at < '2016-03-01'\n",
    "GROUP BY cust_id;\n",
    "'''\n",
    "\n",
    "question_3_df = pd.read_sql_query(query_3, conn)\n",
    "question_3_df"
   ]
  },
  {
   "cell_type": "markdown",
   "metadata": {},
   "source": [
    "## Question 4\n",
    "\n",
    "**Find the most popular category (by revenue) for each active segment.\n",
    "   *Hint*: The current (most up to date) active segment is specified by `active_flag = 'Y'` column in the segments table.**\n",
    "\n",
    "For this question let us create two new tables using the `WITH` clause. The first table will be taking the `transactions` table and calculating the revenue by multiplying the `item_qty` and the `item_price` columns. The second table we will be creating is using the `segments` table and filtering for the active segment for each customer using the `active_flag` column.\n",
    "\n",
    "Since we will be using multiple `WITH` clauses within our query we should test these out before creating our bigger query.\n",
    "\n",
    "We will also order the table by the `revenue` column in descending order."
   ]
  },
  {
   "cell_type": "code",
   "execution_count": 9,
   "metadata": {},
   "outputs": [
    {
     "data": {
      "text/html": [
       "<div>\n",
       "<style scoped>\n",
       "    .dataframe tbody tr th:only-of-type {\n",
       "        vertical-align: middle;\n",
       "    }\n",
       "\n",
       "    .dataframe tbody tr th {\n",
       "        vertical-align: top;\n",
       "    }\n",
       "\n",
       "    .dataframe thead th {\n",
       "        text-align: right;\n",
       "    }\n",
       "</style>\n",
       "<table border=\"1\" class=\"dataframe\">\n",
       "  <thead>\n",
       "    <tr style=\"text-align: right;\">\n",
       "      <th></th>\n",
       "      <th>cust_id</th>\n",
       "      <th>prod_id</th>\n",
       "      <th>revenue</th>\n",
       "    </tr>\n",
       "  </thead>\n",
       "  <tbody>\n",
       "    <tr>\n",
       "      <th>0</th>\n",
       "      <td>4402</td>\n",
       "      <td>285204</td>\n",
       "      <td>24.99</td>\n",
       "    </tr>\n",
       "    <tr>\n",
       "      <th>1</th>\n",
       "      <td>11248</td>\n",
       "      <td>495237</td>\n",
       "      <td>24.99</td>\n",
       "    </tr>\n",
       "    <tr>\n",
       "      <th>2</th>\n",
       "      <td>11248</td>\n",
       "      <td>113495842</td>\n",
       "      <td>34.99</td>\n",
       "    </tr>\n",
       "    <tr>\n",
       "      <th>3</th>\n",
       "      <td>12064</td>\n",
       "      <td>238891</td>\n",
       "      <td>20.99</td>\n",
       "    </tr>\n",
       "    <tr>\n",
       "      <th>4</th>\n",
       "      <td>12064</td>\n",
       "      <td>192007896</td>\n",
       "      <td>218.97</td>\n",
       "    </tr>\n",
       "    <tr>\n",
       "      <th>...</th>\n",
       "      <td>...</td>\n",
       "      <td>...</td>\n",
       "      <td>...</td>\n",
       "    </tr>\n",
       "    <tr>\n",
       "      <th>1858</th>\n",
       "      <td>21233469</td>\n",
       "      <td>166838318</td>\n",
       "      <td>72.99</td>\n",
       "    </tr>\n",
       "    <tr>\n",
       "      <th>1859</th>\n",
       "      <td>21233549</td>\n",
       "      <td>268780</td>\n",
       "      <td>71.99</td>\n",
       "    </tr>\n",
       "    <tr>\n",
       "      <th>1860</th>\n",
       "      <td>21233596</td>\n",
       "      <td>449428</td>\n",
       "      <td>88.99</td>\n",
       "    </tr>\n",
       "    <tr>\n",
       "      <th>1861</th>\n",
       "      <td>21233911</td>\n",
       "      <td>257304</td>\n",
       "      <td>13.99</td>\n",
       "    </tr>\n",
       "    <tr>\n",
       "      <th>1862</th>\n",
       "      <td>21233988</td>\n",
       "      <td>258205</td>\n",
       "      <td>137.98</td>\n",
       "    </tr>\n",
       "  </tbody>\n",
       "</table>\n",
       "<p>1863 rows × 3 columns</p>\n",
       "</div>"
      ],
      "text/plain": [
       "       cust_id    prod_id  revenue\n",
       "0         4402     285204    24.99\n",
       "1        11248     495237    24.99\n",
       "2        11248  113495842    34.99\n",
       "3        12064     238891    20.99\n",
       "4        12064  192007896   218.97\n",
       "...        ...        ...      ...\n",
       "1858  21233469  166838318    72.99\n",
       "1859  21233549     268780    71.99\n",
       "1860  21233596     449428    88.99\n",
       "1861  21233911     257304    13.99\n",
       "1862  21233988     258205   137.98\n",
       "\n",
       "[1863 rows x 3 columns]"
      ]
     },
     "execution_count": 9,
     "metadata": {},
     "output_type": "execute_result"
    }
   ],
   "source": [
    "#Our first WITH clause will be finding the revenue from the transaction table\n",
    "\n",
    "query_sales_revenue = '''\n",
    "SELECT cust_id,\n",
    "       prod_id,\n",
    "       SUM(item_qty * item_price) AS revenue\n",
    "FROM transactions\n",
    "GROUP BY prod_id\n",
    "ORDER BY cust_id; \n",
    "'''\n",
    "#We added the ORDER BY clause to ensure that if a customer bought mulitple items that they would show up in their own row\n",
    "#When we create our bigger query we can omit the ORDER BY clause\n",
    "\n",
    "\n",
    "revenue_df = pd.read_sql_query(query_sales_revenue, conn)\n",
    "revenue_df"
   ]
  },
  {
   "cell_type": "code",
   "execution_count": 10,
   "metadata": {},
   "outputs": [
    {
     "data": {
      "text/html": [
       "<div>\n",
       "<style scoped>\n",
       "    .dataframe tbody tr th:only-of-type {\n",
       "        vertical-align: middle;\n",
       "    }\n",
       "\n",
       "    .dataframe tbody tr th {\n",
       "        vertical-align: top;\n",
       "    }\n",
       "\n",
       "    .dataframe thead th {\n",
       "        text-align: right;\n",
       "    }\n",
       "</style>\n",
       "<table border=\"1\" class=\"dataframe\">\n",
       "  <thead>\n",
       "    <tr style=\"text-align: right;\">\n",
       "      <th></th>\n",
       "      <th>cust_id</th>\n",
       "      <th>seg_name</th>\n",
       "    </tr>\n",
       "  </thead>\n",
       "  <tbody>\n",
       "    <tr>\n",
       "      <th>0</th>\n",
       "      <td>4402</td>\n",
       "      <td>ONE-OFFS</td>\n",
       "    </tr>\n",
       "    <tr>\n",
       "      <th>1</th>\n",
       "      <td>11248</td>\n",
       "      <td>LOYAL</td>\n",
       "    </tr>\n",
       "    <tr>\n",
       "      <th>2</th>\n",
       "      <td>12064</td>\n",
       "      <td>INFREQUENT</td>\n",
       "    </tr>\n",
       "    <tr>\n",
       "      <th>3</th>\n",
       "      <td>12064</td>\n",
       "      <td>INFREQUENT</td>\n",
       "    </tr>\n",
       "    <tr>\n",
       "      <th>4</th>\n",
       "      <td>15088</td>\n",
       "      <td>ONE-OFFS</td>\n",
       "    </tr>\n",
       "    <tr>\n",
       "      <th>...</th>\n",
       "      <td>...</td>\n",
       "      <td>...</td>\n",
       "    </tr>\n",
       "    <tr>\n",
       "      <th>1317</th>\n",
       "      <td>21233469</td>\n",
       "      <td>NEW</td>\n",
       "    </tr>\n",
       "    <tr>\n",
       "      <th>1318</th>\n",
       "      <td>21233549</td>\n",
       "      <td>NEW</td>\n",
       "    </tr>\n",
       "    <tr>\n",
       "      <th>1319</th>\n",
       "      <td>21233596</td>\n",
       "      <td>NEW</td>\n",
       "    </tr>\n",
       "    <tr>\n",
       "      <th>1320</th>\n",
       "      <td>21233911</td>\n",
       "      <td>NEW</td>\n",
       "    </tr>\n",
       "    <tr>\n",
       "      <th>1321</th>\n",
       "      <td>21233988</td>\n",
       "      <td>NEW</td>\n",
       "    </tr>\n",
       "  </tbody>\n",
       "</table>\n",
       "<p>1322 rows × 2 columns</p>\n",
       "</div>"
      ],
      "text/plain": [
       "       cust_id    seg_name\n",
       "0         4402    ONE-OFFS\n",
       "1        11248       LOYAL\n",
       "2        12064  INFREQUENT\n",
       "3        12064  INFREQUENT\n",
       "4        15088    ONE-OFFS\n",
       "...        ...         ...\n",
       "1317  21233469         NEW\n",
       "1318  21233549         NEW\n",
       "1319  21233596         NEW\n",
       "1320  21233911         NEW\n",
       "1321  21233988         NEW\n",
       "\n",
       "[1322 rows x 2 columns]"
      ]
     },
     "execution_count": 10,
     "metadata": {},
     "output_type": "execute_result"
    }
   ],
   "source": [
    "#Our second WITH clause will filter for the active segments\n",
    "\n",
    "query_active_segments = '''\n",
    "SELECT cust_id,\n",
    "        seg_name\n",
    "FROM segments\n",
    "WHERE active_flag = 'Y';\n",
    "'''\n",
    "\n",
    "active_segments_df = pd.read_sql_query(query_active_segments, conn)\n",
    "active_segments_df"
   ]
  },
  {
   "cell_type": "markdown",
   "metadata": {},
   "source": [
    "\n",
    "Now that we tested our two queries that we will be using in the `WITH` clause we can now create the correct query for question 4."
   ]
  },
  {
   "cell_type": "code",
   "execution_count": 11,
   "metadata": {
    "scrolled": false
   },
   "outputs": [
    {
     "data": {
      "text/html": [
       "<div>\n",
       "<style scoped>\n",
       "    .dataframe tbody tr th:only-of-type {\n",
       "        vertical-align: middle;\n",
       "    }\n",
       "\n",
       "    .dataframe tbody tr th {\n",
       "        vertical-align: top;\n",
       "    }\n",
       "\n",
       "    .dataframe thead th {\n",
       "        text-align: right;\n",
       "    }\n",
       "</style>\n",
       "<table border=\"1\" class=\"dataframe\">\n",
       "  <thead>\n",
       "    <tr style=\"text-align: right;\">\n",
       "      <th></th>\n",
       "      <th>seg_name</th>\n",
       "      <th>category</th>\n",
       "      <th>revenue</th>\n",
       "    </tr>\n",
       "  </thead>\n",
       "  <tbody>\n",
       "    <tr>\n",
       "      <th>0</th>\n",
       "      <td>VIP</td>\n",
       "      <td>Men</td>\n",
       "      <td>43822.71</td>\n",
       "    </tr>\n",
       "    <tr>\n",
       "      <th>1</th>\n",
       "      <td>INFREQUENT</td>\n",
       "      <td>Make up</td>\n",
       "      <td>42013.49</td>\n",
       "    </tr>\n",
       "    <tr>\n",
       "      <th>2</th>\n",
       "      <td>LOYAL</td>\n",
       "      <td>Men</td>\n",
       "      <td>30921.36</td>\n",
       "    </tr>\n",
       "    <tr>\n",
       "      <th>3</th>\n",
       "      <td>ONE-OFFS</td>\n",
       "      <td>Women</td>\n",
       "      <td>23540.77</td>\n",
       "    </tr>\n",
       "    <tr>\n",
       "      <th>4</th>\n",
       "      <td>NEW</td>\n",
       "      <td>Make up</td>\n",
       "      <td>6088.92</td>\n",
       "    </tr>\n",
       "  </tbody>\n",
       "</table>\n",
       "</div>"
      ],
      "text/plain": [
       "     seg_name category   revenue\n",
       "0         VIP      Men  43822.71\n",
       "1  INFREQUENT  Make up  42013.49\n",
       "2       LOYAL      Men  30921.36\n",
       "3    ONE-OFFS    Women  23540.77\n",
       "4         NEW  Make up   6088.92"
      ]
     },
     "execution_count": 11,
     "metadata": {},
     "output_type": "execute_result"
    }
   ],
   "source": [
    "query_4 = '''\n",
    "WITH revenue_table AS (\n",
    "SELECT cust_id,\n",
    "       prod_id,\n",
    "       SUM(item_qty * item_price) AS revenue\n",
    "FROM transactions\n",
    "GROUP BY prod_id\n",
    "),\n",
    "\n",
    "active_segments AS (\n",
    "SELECT cust_id,\n",
    "        seg_name\n",
    "FROM segments\n",
    "WHERE active_flag = 'Y'\n",
    ")\n",
    "\n",
    "SELECT  s.seg_name,\n",
    "        p.category,\n",
    "        SUM(rt.revenue) as revenue\n",
    "FROM revenue_table rt\n",
    "INNER JOIN active_segments s ON rt.cust_id = s.cust_id\n",
    "INNER JOIN products p ON rt.prod_id = p.prod_id\n",
    "GROUP BY s.seg_name\n",
    "ORDER BY revenue DESC;\n",
    "'''\n",
    "\n",
    "question_4_df = pd.read_sql_query(query_4, conn)\n",
    "question_4_df"
   ]
  },
  {
   "cell_type": "markdown",
   "metadata": {},
   "source": [
    "## Question 5\n",
    "\n",
    "**Use the current sample database to find insights. Please document your steps, include any code/documents you used (Excel, SQL, Python, etc), and have the final results in a Powerpoint format (limit 3 slides)\n",
    "   *Hint*: This is open ended, but you could look at sales trend, category insights, customers insights**\n",
    "   \n",
    "### Insight 1\n",
    "   \n",
    "The first thing I want to explore is how much each segment is spending per transaction. Although we should take into account the frequency of purchasing as well. With this in mind, we should find the average spend per transaction and multiply it by the number of transactions for each customer segment.\n",
    "\n",
    "We are labeling the customer's segment on the `active_flag`. We are going to take into account all transactions of a customer's lifetime since we are assuming all customers will start in the 'new' segment and gradually be updated into the other segments."
   ]
  },
  {
   "cell_type": "code",
   "execution_count": 12,
   "metadata": {},
   "outputs": [
    {
     "data": {
      "text/html": [
       "<div>\n",
       "<style scoped>\n",
       "    .dataframe tbody tr th:only-of-type {\n",
       "        vertical-align: middle;\n",
       "    }\n",
       "\n",
       "    .dataframe tbody tr th {\n",
       "        vertical-align: top;\n",
       "    }\n",
       "\n",
       "    .dataframe thead th {\n",
       "        text-align: right;\n",
       "    }\n",
       "</style>\n",
       "<table border=\"1\" class=\"dataframe\">\n",
       "  <thead>\n",
       "    <tr style=\"text-align: right;\">\n",
       "      <th></th>\n",
       "      <th>cust_id</th>\n",
       "      <th>seg_name</th>\n",
       "      <th>trans_id</th>\n",
       "      <th>trans_dt</th>\n",
       "      <th>trans_total</th>\n",
       "    </tr>\n",
       "  </thead>\n",
       "  <tbody>\n",
       "    <tr>\n",
       "      <th>0</th>\n",
       "      <td>9085146</td>\n",
       "      <td>ONE-OFFS</td>\n",
       "      <td>1</td>\n",
       "      <td>2016-01-02 10:06:00</td>\n",
       "      <td>42.99</td>\n",
       "    </tr>\n",
       "    <tr>\n",
       "      <th>1</th>\n",
       "      <td>1215814</td>\n",
       "      <td>INFREQUENT</td>\n",
       "      <td>2</td>\n",
       "      <td>2016-01-02 10:30:00</td>\n",
       "      <td>178.94</td>\n",
       "    </tr>\n",
       "    <tr>\n",
       "      <th>2</th>\n",
       "      <td>18511160</td>\n",
       "      <td>ONE-OFFS</td>\n",
       "      <td>4</td>\n",
       "      <td>2016-01-02 11:33:00</td>\n",
       "      <td>501.91</td>\n",
       "    </tr>\n",
       "    <tr>\n",
       "      <th>3</th>\n",
       "      <td>15251041</td>\n",
       "      <td>INFREQUENT</td>\n",
       "      <td>6</td>\n",
       "      <td>2016-01-02 11:35:00</td>\n",
       "      <td>61.99</td>\n",
       "    </tr>\n",
       "    <tr>\n",
       "      <th>4</th>\n",
       "      <td>14769966</td>\n",
       "      <td>ONE-OFFS</td>\n",
       "      <td>7</td>\n",
       "      <td>2016-01-02 11:36:00</td>\n",
       "      <td>96.97</td>\n",
       "    </tr>\n",
       "    <tr>\n",
       "      <th>...</th>\n",
       "      <td>...</td>\n",
       "      <td>...</td>\n",
       "      <td>...</td>\n",
       "      <td>...</td>\n",
       "      <td>...</td>\n",
       "    </tr>\n",
       "    <tr>\n",
       "      <th>1217</th>\n",
       "      <td>3737672</td>\n",
       "      <td>LOYAL</td>\n",
       "      <td>2649</td>\n",
       "      <td>2016-06-16 16:52:00</td>\n",
       "      <td>315.96</td>\n",
       "    </tr>\n",
       "    <tr>\n",
       "      <th>1218</th>\n",
       "      <td>7049122</td>\n",
       "      <td>VIP</td>\n",
       "      <td>2654</td>\n",
       "      <td>2016-06-17 19:36:00</td>\n",
       "      <td>101.97</td>\n",
       "    </tr>\n",
       "    <tr>\n",
       "      <th>1219</th>\n",
       "      <td>3649704</td>\n",
       "      <td>VIP</td>\n",
       "      <td>2662</td>\n",
       "      <td>2016-06-18 10:00:00</td>\n",
       "      <td>464.91</td>\n",
       "    </tr>\n",
       "    <tr>\n",
       "      <th>1220</th>\n",
       "      <td>4095901</td>\n",
       "      <td>INFREQUENT</td>\n",
       "      <td>2665</td>\n",
       "      <td>2016-06-18 17:51:00</td>\n",
       "      <td>89.99</td>\n",
       "    </tr>\n",
       "    <tr>\n",
       "      <th>1221</th>\n",
       "      <td>7989374</td>\n",
       "      <td>ONE-OFFS</td>\n",
       "      <td>2666</td>\n",
       "      <td>2016-06-18 12:34:00</td>\n",
       "      <td>46.99</td>\n",
       "    </tr>\n",
       "  </tbody>\n",
       "</table>\n",
       "<p>1222 rows × 5 columns</p>\n",
       "</div>"
      ],
      "text/plain": [
       "       cust_id    seg_name  trans_id             trans_dt  trans_total\n",
       "0      9085146    ONE-OFFS         1  2016-01-02 10:06:00        42.99\n",
       "1      1215814  INFREQUENT         2  2016-01-02 10:30:00       178.94\n",
       "2     18511160    ONE-OFFS         4  2016-01-02 11:33:00       501.91\n",
       "3     15251041  INFREQUENT         6  2016-01-02 11:35:00        61.99\n",
       "4     14769966    ONE-OFFS         7  2016-01-02 11:36:00        96.97\n",
       "...        ...         ...       ...                  ...          ...\n",
       "1217   3737672       LOYAL      2649  2016-06-16 16:52:00       315.96\n",
       "1218   7049122         VIP      2654  2016-06-17 19:36:00       101.97\n",
       "1219   3649704         VIP      2662  2016-06-18 10:00:00       464.91\n",
       "1220   4095901  INFREQUENT      2665  2016-06-18 17:51:00        89.99\n",
       "1221   7989374    ONE-OFFS      2666  2016-06-18 12:34:00        46.99\n",
       "\n",
       "[1222 rows x 5 columns]"
      ]
     },
     "execution_count": 12,
     "metadata": {},
     "output_type": "execute_result"
    }
   ],
   "source": [
    "#Since we are reusing a part of the queries from question 4 we do not need to test them again\n",
    "#The difference is we are adding trans_id and trans_dt to the revenue_table and main query\n",
    "#We are also finding the sum of each transaction\n",
    "\n",
    "\n",
    "query_customer_spending = '''\n",
    "WITH revenue_table AS (\n",
    "SELECT cust_id,\n",
    "       trans_id,\n",
    "       trans_dt,\n",
    "       prod_id,\n",
    "       SUM(item_qty * item_price) AS revenue\n",
    "FROM transactions\n",
    "GROUP BY prod_id\n",
    "),\n",
    "\n",
    "active_segments AS (\n",
    "SELECT cust_id,\n",
    "        seg_name\n",
    "FROM segments\n",
    "WHERE active_flag = 'Y'\n",
    ")\n",
    "\n",
    "SELECT r.cust_id,\n",
    "       s.seg_name,\n",
    "       r.trans_id,\n",
    "       r.trans_dt,\n",
    "       SUM(r.revenue) AS trans_total\n",
    "FROM revenue_table r\n",
    "INNER JOIN active_segments s ON r.cust_id = s.cust_id\n",
    "GROUP BY r.trans_id\n",
    "'''\n",
    "\n",
    "revenue_segments_df = pd.read_sql_query(query_customer_spending, conn)\n",
    "revenue_segments_df"
   ]
  },
  {
   "cell_type": "markdown",
   "metadata": {},
   "source": [
    "\n",
    "First let's define each segment by the number of transactions that have occurred over a year. To do this let us find the date range that we were given for transactions."
   ]
  },
  {
   "cell_type": "code",
   "execution_count": 13,
   "metadata": {},
   "outputs": [
    {
     "name": "stdout",
     "output_type": "stream",
     "text": [
      "2016-01-02 00:00:00\n",
      "2016-06-18 17:51:00\n"
     ]
    }
   ],
   "source": [
    "print(revenue_segments_df['trans_dt'].min())\n",
    "print(revenue_segments_df['trans_dt'].max())"
   ]
  },
  {
   "cell_type": "markdown",
   "metadata": {},
   "source": [
    "We see that the date range we were given for transactions is between Jan 2, 2016 to Jun 18, 2016.  Next we can find the average number of transactions for each segment."
   ]
  },
  {
   "cell_type": "code",
   "execution_count": 14,
   "metadata": {
    "scrolled": true
   },
   "outputs": [
    {
     "name": "stdout",
     "output_type": "stream",
     "text": [
      "{'ONE-OFFS': 1.0364372469635628, 'INFREQUENT': 1.2072072072072073, 'LOYAL': 1.6785714285714286, 'NEW': 1.0769230769230769, 'VIP': 3.7}\n"
     ]
    }
   ],
   "source": [
    "def find_average_trans_per_segment(segment):\n",
    "    segment = revenue_segments_df[revenue_segments_df['seg_name'] == segment]\n",
    "    avg_trans = len(segment['trans_id']) / len(segment['cust_id'].unique())\n",
    "    return avg_trans\n",
    "\n",
    "segments_avg_trans = {s:find_average_trans_per_segment(s) for s in revenue_segments_df['seg_name'].unique()}\n",
    "\n",
    "print(segments_avg_trans)\n",
    "    "
   ]
  },
  {
   "cell_type": "markdown",
   "metadata": {},
   "source": [
    "\n",
    "Since we were given such a short time frame we can not see any differences in the 'one-offs', 'infrequent', and 'new' segments.\n",
    "\n",
    "Let us find the average transaction amount per segment."
   ]
  },
  {
   "cell_type": "code",
   "execution_count": 15,
   "metadata": {},
   "outputs": [
    {
     "name": "stdout",
     "output_type": "stream",
     "text": [
      "{'ONE-OFFS': 96.91372469635628, 'INFREQUENT': 123.63375375375374, 'LOYAL': 240.01564285714286, 'NEW': 102.66430769230769, 'VIP': 585.7735714285714}\n"
     ]
    }
   ],
   "source": [
    "def find_average_trans_amount_per_segment(segment):\n",
    "    segment = revenue_segments_df[revenue_segments_df['seg_name'] == segment]\n",
    "    avg_trans_amount = segment['trans_total'].sum() / len(segment['cust_id'].unique())\n",
    "    return avg_trans_amount\n",
    "\n",
    "segments_avg_trans_amount = {s:find_average_trans_amount_per_segment(s) for s in revenue_segments_df['seg_name'].unique()}\n",
    "\n",
    "print(segments_avg_trans_amount)"
   ]
  },
  {
   "cell_type": "markdown",
   "metadata": {},
   "source": [
    "Now we should find how much revenue each segment produced in the 6 month time frame."
   ]
  },
  {
   "cell_type": "code",
   "execution_count": 16,
   "metadata": {
    "scrolled": true
   },
   "outputs": [
    {
     "name": "stdout",
     "output_type": "stream",
     "text": [
      "seg_name\n",
      "INFREQUENT    41170.04\n",
      "LOYAL         33602.19\n",
      "NEW            6673.18\n",
      "ONE-OFFS      23937.69\n",
      "VIP           41004.15\n",
      "Name: trans_total, dtype: float64\n"
     ]
    }
   ],
   "source": [
    "print(revenue_segments_df.groupby('seg_name')['trans_total'].sum())"
   ]
  },
  {
   "cell_type": "markdown",
   "metadata": {},
   "source": [
    "We notice that the amount of spending from 'infrequent' and 'VIP' customers are similar but 'VIP' customers have more frequent and greater transactions than 'infrequent' customers. Let's create a scatter plot to determine any outliers."
   ]
  },
  {
   "cell_type": "code",
   "execution_count": 17,
   "metadata": {},
   "outputs": [
    {
     "data": {
      "image/png": "[encoded data removed]",
      "text/plain": [
       "<Figure size 720x720 with 1 Axes>"
      ]
     },
     "metadata": {
      "needs_background": "light"
     },
     "output_type": "display_data"
    }
   ],
   "source": [
    "import matplotlib.pyplot as plt\n",
    "import seaborn as sns\n",
    "%matplotlib inline\n",
    "\n",
    "\n",
    "fig = plt.figure(figsize=(10,10))\n",
    "sns.scatterplot(x=revenue_segments_df['seg_name'], y=revenue_segments_df['trans_total'])\n",
    "plt.title('Transaction Totals Per Customer Segment')\n",
    "plt.show()"
   ]
  },
  {
   "cell_type": "markdown",
   "metadata": {},
   "source": [
    "We see some outliers for the 'one-offs', 'infrequent', 'loyal', and 'new' new segments. Let us filter out the upper outliers and recalculate our average number of transactions and average transaction total for each segment. We will assume anything in the 99th percentile is an outlier."
   ]
  },
  {
   "cell_type": "code",
   "execution_count": 18,
   "metadata": {},
   "outputs": [
    {
     "data": {
      "text/html": [
       "<div>\n",
       "<style scoped>\n",
       "    .dataframe tbody tr th:only-of-type {\n",
       "        vertical-align: middle;\n",
       "    }\n",
       "\n",
       "    .dataframe tbody tr th {\n",
       "        vertical-align: top;\n",
       "    }\n",
       "\n",
       "    .dataframe thead th {\n",
       "        text-align: right;\n",
       "    }\n",
       "</style>\n",
       "<table border=\"1\" class=\"dataframe\">\n",
       "  <thead>\n",
       "    <tr style=\"text-align: right;\">\n",
       "      <th></th>\n",
       "      <th>cust_id</th>\n",
       "      <th>seg_name</th>\n",
       "      <th>trans_id</th>\n",
       "      <th>trans_dt</th>\n",
       "      <th>trans_total</th>\n",
       "    </tr>\n",
       "  </thead>\n",
       "  <tbody>\n",
       "    <tr>\n",
       "      <th>0</th>\n",
       "      <td>9085146</td>\n",
       "      <td>ONE-OFFS</td>\n",
       "      <td>1</td>\n",
       "      <td>2016-01-02 10:06:00</td>\n",
       "      <td>42.99</td>\n",
       "    </tr>\n",
       "    <tr>\n",
       "      <th>2</th>\n",
       "      <td>18511160</td>\n",
       "      <td>ONE-OFFS</td>\n",
       "      <td>4</td>\n",
       "      <td>2016-01-02 11:33:00</td>\n",
       "      <td>501.91</td>\n",
       "    </tr>\n",
       "    <tr>\n",
       "      <th>4</th>\n",
       "      <td>14769966</td>\n",
       "      <td>ONE-OFFS</td>\n",
       "      <td>7</td>\n",
       "      <td>2016-01-02 11:36:00</td>\n",
       "      <td>96.97</td>\n",
       "    </tr>\n",
       "    <tr>\n",
       "      <th>6</th>\n",
       "      <td>3769351</td>\n",
       "      <td>ONE-OFFS</td>\n",
       "      <td>10</td>\n",
       "      <td>2016-01-02 12:16:00</td>\n",
       "      <td>32.99</td>\n",
       "    </tr>\n",
       "    <tr>\n",
       "      <th>7</th>\n",
       "      <td>15088</td>\n",
       "      <td>ONE-OFFS</td>\n",
       "      <td>13</td>\n",
       "      <td>2016-01-02 12:25:00</td>\n",
       "      <td>288.94</td>\n",
       "    </tr>\n",
       "    <tr>\n",
       "      <th>...</th>\n",
       "      <td>...</td>\n",
       "      <td>...</td>\n",
       "      <td>...</td>\n",
       "      <td>...</td>\n",
       "      <td>...</td>\n",
       "    </tr>\n",
       "    <tr>\n",
       "      <th>1210</th>\n",
       "      <td>14311317</td>\n",
       "      <td>VIP</td>\n",
       "      <td>2633</td>\n",
       "      <td>2016-06-11 10:51:00</td>\n",
       "      <td>163.96</td>\n",
       "    </tr>\n",
       "    <tr>\n",
       "      <th>1213</th>\n",
       "      <td>8805421</td>\n",
       "      <td>VIP</td>\n",
       "      <td>2642</td>\n",
       "      <td>2016-06-13 00:00:00</td>\n",
       "      <td>231.96</td>\n",
       "    </tr>\n",
       "    <tr>\n",
       "      <th>1215</th>\n",
       "      <td>9350306</td>\n",
       "      <td>VIP</td>\n",
       "      <td>2645</td>\n",
       "      <td>2016-06-15 12:44:00</td>\n",
       "      <td>60.99</td>\n",
       "    </tr>\n",
       "    <tr>\n",
       "      <th>1218</th>\n",
       "      <td>7049122</td>\n",
       "      <td>VIP</td>\n",
       "      <td>2654</td>\n",
       "      <td>2016-06-17 19:36:00</td>\n",
       "      <td>101.97</td>\n",
       "    </tr>\n",
       "    <tr>\n",
       "      <th>1219</th>\n",
       "      <td>3649704</td>\n",
       "      <td>VIP</td>\n",
       "      <td>2662</td>\n",
       "      <td>2016-06-18 10:00:00</td>\n",
       "      <td>464.91</td>\n",
       "    </tr>\n",
       "  </tbody>\n",
       "</table>\n",
       "<p>1207 rows × 5 columns</p>\n",
       "</div>"
      ],
      "text/plain": [
       "       cust_id  seg_name  trans_id             trans_dt  trans_total\n",
       "0      9085146  ONE-OFFS         1  2016-01-02 10:06:00        42.99\n",
       "2     18511160  ONE-OFFS         4  2016-01-02 11:33:00       501.91\n",
       "4     14769966  ONE-OFFS         7  2016-01-02 11:36:00        96.97\n",
       "6      3769351  ONE-OFFS        10  2016-01-02 12:16:00        32.99\n",
       "7        15088  ONE-OFFS        13  2016-01-02 12:25:00       288.94\n",
       "...        ...       ...       ...                  ...          ...\n",
       "1210  14311317       VIP      2633  2016-06-11 10:51:00       163.96\n",
       "1213   8805421       VIP      2642  2016-06-13 00:00:00       231.96\n",
       "1215   9350306       VIP      2645  2016-06-15 12:44:00        60.99\n",
       "1218   7049122       VIP      2654  2016-06-17 19:36:00       101.97\n",
       "1219   3649704       VIP      2662  2016-06-18 10:00:00       464.91\n",
       "\n",
       "[1207 rows x 5 columns]"
      ]
     },
     "execution_count": 18,
     "metadata": {},
     "output_type": "execute_result"
    }
   ],
   "source": [
    "segment_dfs = []\n",
    "\n",
    "for segment in revenue_segments_df['seg_name'].unique():\n",
    "    segment_df = revenue_segments_df[revenue_segments_df['seg_name'] == segment]\n",
    "    q_99 = segment_df['trans_total'].quantile(.99)\n",
    "    segment_df = segment_df[segment_df['trans_total'] < q_99]\n",
    "    segment_dfs.append(segment_df)\n",
    "    \n",
    "revenue_segments_cleaned_df = pd.concat(segment_dfs)\n",
    "revenue_segments_cleaned_df"
   ]
  },
  {
   "cell_type": "markdown",
   "metadata": {},
   "source": [
    "Now that we cleaned our dataset let us recalculate our summary statistics. \n"
   ]
  },
  {
   "cell_type": "code",
   "execution_count": 19,
   "metadata": {},
   "outputs": [
    {
     "name": "stdout",
     "output_type": "stream",
     "text": [
      "Average number of transactions\n",
      "{'ONE-OFFS': 1.0368852459016393, 'INFREQUENT': 1.2066869300911853, 'LOYAL': 1.669064748201439, 'NEW': 1.078125, 'VIP': 3.657142857142857}\n",
      "\n",
      "\n",
      "Average amount per transaction\n",
      "{'ONE-OFFS': 89.72299180327869, 'INFREQUENT': 115.27711246200607, 'LOYAL': 225.51633093525183, 'NEW': 96.86343749999999, 'VIP': 553.6418571428571}\n",
      "\n",
      "\n",
      "Amount of revenue for each segment\n",
      "seg_name\n",
      "INFREQUENT    37926.17\n",
      "LOYAL         31346.77\n",
      "NEW            6199.26\n",
      "ONE-OFFS      21892.41\n",
      "VIP           38754.93\n",
      "Name: trans_total, dtype: float64\n"
     ]
    },
    {
     "data": {
      "image/png": "[encoded data removed]",
      "text/plain": [
       "<Figure size 720x720 with 1 Axes>"
      ]
     },
     "metadata": {
      "needs_background": "light"
     },
     "output_type": "display_data"
    }
   ],
   "source": [
    "#We need to readjust our functions we created to use our cleaned dataframe. \n",
    "\n",
    "def find_average_trans_per_segment(segment):\n",
    "    segment = revenue_segments_cleaned_df[revenue_segments_cleaned_df['seg_name'] == segment]\n",
    "    avg_trans = len(segment['trans_id']) / len(segment['cust_id'].unique())\n",
    "    return avg_trans\n",
    "\n",
    "\n",
    "def find_average_trans_amount_per_segment(segment):\n",
    "    segment = revenue_segments_cleaned_df[revenue_segments_cleaned_df['seg_name'] == segment]\n",
    "    avg_trans_amount = segment['trans_total'].sum() / len(segment['cust_id'].unique())\n",
    "    return avg_trans_amount\n",
    "\n",
    "\n",
    "print('Average number of transactions')\n",
    "segments_avg_trans = {s:find_average_trans_per_segment(s) for s in revenue_segments_df['seg_name'].unique()}\n",
    "print(segments_avg_trans)\n",
    "\n",
    "print('\\n')\n",
    "print('Average amount per transaction')\n",
    "segments_avg_trans_amount = {s:find_average_trans_amount_per_segment(s) for s in revenue_segments_df['seg_name'].unique()}\n",
    "print(segments_avg_trans_amount)\n",
    "\n",
    "print('\\n')\n",
    "print('Amount of revenue for each segment')\n",
    "print(revenue_segments_cleaned_df.groupby('seg_name')['trans_total'].sum())\n",
    "\n",
    "fig = plt.figure(figsize=(10,10))\n",
    "sns.scatterplot(x=revenue_segments_cleaned_df['seg_name'], y=revenue_segments_cleaned_df['trans_total'])\n",
    "plt.title('Transaction Totals Per Customer Segment')\n",
    "plt.show()"
   ]
  },
  {
   "cell_type": "markdown",
   "metadata": {},
   "source": [
    "Even though we removed the outliers we still see that 'infrequent' customers generated more revenue than 'loyal' customers. Perhaps we should find the number of transactions in each segment."
   ]
  },
  {
   "cell_type": "code",
   "execution_count": 20,
   "metadata": {},
   "outputs": [
    {
     "name": "stdout",
     "output_type": "stream",
     "text": [
      "            trans_id\n",
      "seg_name            \n",
      "INFREQUENT       397\n",
      "LOYAL            232\n",
      "NEW               69\n",
      "ONE-OFFS         253\n",
      "VIP              256\n"
     ]
    }
   ],
   "source": [
    "print(revenue_segments_cleaned_df[['trans_id', 'seg_name']].groupby('seg_name').count())"
   ]
  },
  {
   "cell_type": "markdown",
   "metadata": {},
   "source": [
    "We now see that even though 'infrequent' customers spend less and visit the store less often than 'loyal' andd 'VIP' customers there was a higher number of transactions in this segment. With this in mind we can create our first slide.\n",
    "\n",
    "The first insight will be that 'infrequent' segment generated more revenue than the 'loyal' segment. I will recommend we focus marketing efforts on the 'infrequent' segment in order to grow this segment or hopefully it will lead to customers turning into 'loyal' or 'VIP customers.\n",
    "\n",
    "### Insight 2\n",
    "\n",
    "For the next insight I want to dive deeper into the products. First let us create a scatter plot with the price of the product and the amount of revenue generated. First let us pull from the database into a dataframe."
   ]
  },
  {
   "cell_type": "code",
   "execution_count": 21,
   "metadata": {},
   "outputs": [
    {
     "data": {
      "text/html": [
       "<div>\n",
       "<style scoped>\n",
       "    .dataframe tbody tr th:only-of-type {\n",
       "        vertical-align: middle;\n",
       "    }\n",
       "\n",
       "    .dataframe tbody tr th {\n",
       "        vertical-align: top;\n",
       "    }\n",
       "\n",
       "    .dataframe thead th {\n",
       "        text-align: right;\n",
       "    }\n",
       "</style>\n",
       "<table border=\"1\" class=\"dataframe\">\n",
       "  <thead>\n",
       "    <tr style=\"text-align: right;\">\n",
       "      <th></th>\n",
       "      <th>cust_id</th>\n",
       "      <th>seg_name</th>\n",
       "      <th>trans_id</th>\n",
       "      <th>prod_id</th>\n",
       "      <th>category</th>\n",
       "      <th>brand</th>\n",
       "      <th>prod_name</th>\n",
       "      <th>item_qty</th>\n",
       "      <th>item_price</th>\n",
       "      <th>revenue</th>\n",
       "    </tr>\n",
       "  </thead>\n",
       "  <tbody>\n",
       "    <tr>\n",
       "      <th>0</th>\n",
       "      <td>7820001</td>\n",
       "      <td>LOYAL</td>\n",
       "      <td>2009</td>\n",
       "      <td>199922</td>\n",
       "      <td>Men</td>\n",
       "      <td>N</td>\n",
       "      <td>Product 199922</td>\n",
       "      <td>1</td>\n",
       "      <td>25.99</td>\n",
       "      <td>25.99</td>\n",
       "    </tr>\n",
       "    <tr>\n",
       "      <th>1</th>\n",
       "      <td>13868709</td>\n",
       "      <td>INFREQUENT</td>\n",
       "      <td>1583</td>\n",
       "      <td>207344</td>\n",
       "      <td>Make up</td>\n",
       "      <td>G</td>\n",
       "      <td>Product 207344</td>\n",
       "      <td>2</td>\n",
       "      <td>15.99</td>\n",
       "      <td>31.98</td>\n",
       "    </tr>\n",
       "    <tr>\n",
       "      <th>2</th>\n",
       "      <td>2345280</td>\n",
       "      <td>ONE-OFFS</td>\n",
       "      <td>2114</td>\n",
       "      <td>209732</td>\n",
       "      <td>Women</td>\n",
       "      <td>L</td>\n",
       "      <td>Product 209732</td>\n",
       "      <td>2</td>\n",
       "      <td>80.99</td>\n",
       "      <td>161.98</td>\n",
       "    </tr>\n",
       "    <tr>\n",
       "      <th>3</th>\n",
       "      <td>3648035</td>\n",
       "      <td>ONE-OFFS</td>\n",
       "      <td>114</td>\n",
       "      <td>209999</td>\n",
       "      <td>Men</td>\n",
       "      <td>J</td>\n",
       "      <td>Product 209999</td>\n",
       "      <td>1</td>\n",
       "      <td>26.99</td>\n",
       "      <td>26.99</td>\n",
       "    </tr>\n",
       "    <tr>\n",
       "      <th>4</th>\n",
       "      <td>2603787</td>\n",
       "      <td>INFREQUENT</td>\n",
       "      <td>2599</td>\n",
       "      <td>211115</td>\n",
       "      <td>Women</td>\n",
       "      <td>E</td>\n",
       "      <td>Product 211115</td>\n",
       "      <td>2</td>\n",
       "      <td>101.95</td>\n",
       "      <td>203.90</td>\n",
       "    </tr>\n",
       "    <tr>\n",
       "      <th>...</th>\n",
       "      <td>...</td>\n",
       "      <td>...</td>\n",
       "      <td>...</td>\n",
       "      <td>...</td>\n",
       "      <td>...</td>\n",
       "      <td>...</td>\n",
       "      <td>...</td>\n",
       "      <td>...</td>\n",
       "      <td>...</td>\n",
       "      <td>...</td>\n",
       "    </tr>\n",
       "    <tr>\n",
       "      <th>1858</th>\n",
       "      <td>6533400</td>\n",
       "      <td>VIP</td>\n",
       "      <td>2452</td>\n",
       "      <td>398829613</td>\n",
       "      <td>Sun</td>\n",
       "      <td>J</td>\n",
       "      <td>Product 398829613</td>\n",
       "      <td>5</td>\n",
       "      <td>14.99</td>\n",
       "      <td>74.95</td>\n",
       "    </tr>\n",
       "    <tr>\n",
       "      <th>1859</th>\n",
       "      <td>15098614</td>\n",
       "      <td>LOYAL</td>\n",
       "      <td>2586</td>\n",
       "      <td>403716082</td>\n",
       "      <td>Make up</td>\n",
       "      <td>L</td>\n",
       "      <td>Product 403716082</td>\n",
       "      <td>3</td>\n",
       "      <td>35.99</td>\n",
       "      <td>107.97</td>\n",
       "    </tr>\n",
       "    <tr>\n",
       "      <th>1860</th>\n",
       "      <td>12423997</td>\n",
       "      <td>VIP</td>\n",
       "      <td>2581</td>\n",
       "      <td>407168795</td>\n",
       "      <td>Make up</td>\n",
       "      <td>M</td>\n",
       "      <td>Product 407168795</td>\n",
       "      <td>1</td>\n",
       "      <td>24.99</td>\n",
       "      <td>24.99</td>\n",
       "    </tr>\n",
       "    <tr>\n",
       "      <th>1861</th>\n",
       "      <td>12423997</td>\n",
       "      <td>VIP</td>\n",
       "      <td>2581</td>\n",
       "      <td>407168814</td>\n",
       "      <td>Make up</td>\n",
       "      <td>M</td>\n",
       "      <td>Product 407168814</td>\n",
       "      <td>1</td>\n",
       "      <td>21.99</td>\n",
       "      <td>21.99</td>\n",
       "    </tr>\n",
       "    <tr>\n",
       "      <th>1862</th>\n",
       "      <td>12788599</td>\n",
       "      <td>LOYAL</td>\n",
       "      <td>2592</td>\n",
       "      <td>407820712</td>\n",
       "      <td>Women</td>\n",
       "      <td>A</td>\n",
       "      <td>Product 407820712</td>\n",
       "      <td>1</td>\n",
       "      <td>1.99</td>\n",
       "      <td>1.99</td>\n",
       "    </tr>\n",
       "  </tbody>\n",
       "</table>\n",
       "<p>1863 rows × 10 columns</p>\n",
       "</div>"
      ],
      "text/plain": [
       "       cust_id    seg_name  trans_id    prod_id category brand  \\\n",
       "0      7820001       LOYAL      2009     199922      Men     N   \n",
       "1     13868709  INFREQUENT      1583     207344  Make up     G   \n",
       "2      2345280    ONE-OFFS      2114     209732    Women     L   \n",
       "3      3648035    ONE-OFFS       114     209999      Men     J   \n",
       "4      2603787  INFREQUENT      2599     211115    Women     E   \n",
       "...        ...         ...       ...        ...      ...   ...   \n",
       "1858   6533400         VIP      2452  398829613      Sun     J   \n",
       "1859  15098614       LOYAL      2586  403716082  Make up     L   \n",
       "1860  12423997         VIP      2581  407168795  Make up     M   \n",
       "1861  12423997         VIP      2581  407168814  Make up     M   \n",
       "1862  12788599       LOYAL      2592  407820712    Women     A   \n",
       "\n",
       "              prod_name  item_qty  item_price  revenue  \n",
       "0        Product 199922         1       25.99    25.99  \n",
       "1        Product 207344         2       15.99    31.98  \n",
       "2        Product 209732         2       80.99   161.98  \n",
       "3        Product 209999         1       26.99    26.99  \n",
       "4        Product 211115         2      101.95   203.90  \n",
       "...                 ...       ...         ...      ...  \n",
       "1858  Product 398829613         5       14.99    74.95  \n",
       "1859  Product 403716082         3       35.99   107.97  \n",
       "1860  Product 407168795         1       24.99    24.99  \n",
       "1861  Product 407168814         1       21.99    21.99  \n",
       "1862  Product 407820712         1        1.99     1.99  \n",
       "\n",
       "[1863 rows x 10 columns]"
      ]
     },
     "execution_count": 21,
     "metadata": {},
     "output_type": "execute_result"
    }
   ],
   "source": [
    "query_product_revenue = '''\n",
    "WITH active_segments AS (\n",
    "SELECT cust_id,\n",
    "        seg_name\n",
    "FROM segments\n",
    "WHERE active_flag = 'Y'\n",
    ")\n",
    "\n",
    "SELECT t.cust_id,\n",
    "       s.seg_name,\n",
    "       t.trans_id,\n",
    "       t.prod_id,\n",
    "       p.category,\n",
    "       p.brand,\n",
    "       p.prod_name,\n",
    "       SUM(t.item_qty) AS item_qty,\n",
    "       t.item_price,\n",
    "       SUM(t.item_qty * t.item_price) AS revenue\n",
    "FROM transactions t\n",
    "INNER JOIN active_segments s ON t.cust_id = s.cust_id\n",
    "INNER JOIN products p ON t.prod_id = p.prod_id\n",
    "GROUP BY t.prod_id\n",
    "'''\n",
    "\n",
    "\n",
    "product_revenue_df = pd.read_sql_query(query_product_revenue, conn)\n",
    "product_revenue_df"
   ]
  },
  {
   "cell_type": "code",
   "execution_count": 22,
   "metadata": {},
   "outputs": [
    {
     "data": {
      "image/png": "[encoded data removed]",
      "text/plain": [
       "<Figure size 936x576 with 1 Axes>"
      ]
     },
     "metadata": {
      "needs_background": "light"
     },
     "output_type": "display_data"
    }
   ],
   "source": [
    "fig = plt.figure(figsize=(13,8))\n",
    "\n",
    "sns.scatterplot(data=product_revenue_df, x='item_price', y='revenue', hue='category')\n",
    "plt.title('Price vs Revenue', fontsize=20)\n",
    "plt.xlabel('Item Price ($)', fontsize=15)\n",
    "plt.ylabel('Revenue ($)', fontsize=15)\n",
    "plt.show()\n"
   ]
  },
  {
   "cell_type": "markdown",
   "metadata": {},
   "source": [
    "From the graph above we can make two observations:\n",
    "* There are a few make up products which have a lower price but high revenue\n",
    "* For for the Women category there seems to be for distinct groups\n",
    "\n",
    "For the purpose of this assessment let us explore the make up products with the higher revenue. If we plot just the make up products and add a trend line I expect these products to be outliers"
   ]
  },
  {
   "cell_type": "code",
   "execution_count": 23,
   "metadata": {},
   "outputs": [
    {
     "data": {
      "image/png": "[encoded data removed]",
      "text/plain": [
       "<Figure size 360x360 with 1 Axes>"
      ]
     },
     "metadata": {
      "needs_background": "light"
     },
     "output_type": "display_data"
    }
   ],
   "source": [
    "make_up_df = product_revenue_df[product_revenue_df['category'] == 'Make up']\n",
    "\n",
    "sns.lmplot(x='item_price', y='revenue', data=make_up_df)\n",
    "plt.title('Price vs Revenue', fontsize=20)\n",
    "plt.xlabel('Item Price ($)', fontsize=15)\n",
    "plt.ylabel('Revenue ($)', fontsize=15)\n",
    "plt.show()"
   ]
  },
  {
   "cell_type": "markdown",
   "metadata": {},
   "source": [
    "As expected there are three make up products that are far from the trendline. Let us explore these three products further."
   ]
  },
  {
   "cell_type": "code",
   "execution_count": 24,
   "metadata": {},
   "outputs": [
    {
     "data": {
      "text/plain": [
       "prod_id\n",
       "248225       602.83\n",
       "261231       449.82\n",
       "248743       399.84\n",
       "287826       351.89\n",
       "30317167     335.94\n",
       "              ...  \n",
       "222086         2.99\n",
       "114150033      2.50\n",
       "128663333      2.49\n",
       "166838310      2.45\n",
       "166838313      1.40\n",
       "Name: revenue, Length: 692, dtype: float64"
      ]
     },
     "execution_count": 24,
     "metadata": {},
     "output_type": "execute_result"
    }
   ],
   "source": [
    "top_make_up = make_up_df.groupby('prod_id')['revenue'].sum()\n",
    "top_make_up.sort_values(ascending=False, inplace=True)\n",
    "top_make_up"
   ]
  },
  {
   "cell_type": "markdown",
   "metadata": {},
   "source": [
    "We can now take the top 3 'prod_id' and filter our makeup dataframe for these products."
   ]
  },
  {
   "cell_type": "code",
   "execution_count": 25,
   "metadata": {},
   "outputs": [
    {
     "data": {
      "text/html": [
       "<div>\n",
       "<style scoped>\n",
       "    .dataframe tbody tr th:only-of-type {\n",
       "        vertical-align: middle;\n",
       "    }\n",
       "\n",
       "    .dataframe tbody tr th {\n",
       "        vertical-align: top;\n",
       "    }\n",
       "\n",
       "    .dataframe thead th {\n",
       "        text-align: right;\n",
       "    }\n",
       "</style>\n",
       "<table border=\"1\" class=\"dataframe\">\n",
       "  <thead>\n",
       "    <tr style=\"text-align: right;\">\n",
       "      <th></th>\n",
       "      <th>cust_id</th>\n",
       "      <th>seg_name</th>\n",
       "      <th>trans_id</th>\n",
       "      <th>prod_id</th>\n",
       "      <th>category</th>\n",
       "      <th>brand</th>\n",
       "      <th>prod_name</th>\n",
       "      <th>item_qty</th>\n",
       "      <th>item_price</th>\n",
       "      <th>revenue</th>\n",
       "    </tr>\n",
       "  </thead>\n",
       "  <tbody>\n",
       "    <tr>\n",
       "      <th>426</th>\n",
       "      <td>1264766</td>\n",
       "      <td>VIP</td>\n",
       "      <td>2133</td>\n",
       "      <td>248225</td>\n",
       "      <td>Make up</td>\n",
       "      <td>C</td>\n",
       "      <td>Product 248225</td>\n",
       "      <td>17</td>\n",
       "      <td>35.99</td>\n",
       "      <td>602.83</td>\n",
       "    </tr>\n",
       "    <tr>\n",
       "      <th>434</th>\n",
       "      <td>1802400</td>\n",
       "      <td>ONE-OFFS</td>\n",
       "      <td>286</td>\n",
       "      <td>248743</td>\n",
       "      <td>Make up</td>\n",
       "      <td>C</td>\n",
       "      <td>Product 248743</td>\n",
       "      <td>16</td>\n",
       "      <td>24.99</td>\n",
       "      <td>399.84</td>\n",
       "    </tr>\n",
       "    <tr>\n",
       "      <th>631</th>\n",
       "      <td>3568127</td>\n",
       "      <td>INFREQUENT</td>\n",
       "      <td>1819</td>\n",
       "      <td>261231</td>\n",
       "      <td>Make up</td>\n",
       "      <td>C</td>\n",
       "      <td>Product 261231</td>\n",
       "      <td>18</td>\n",
       "      <td>24.99</td>\n",
       "      <td>449.82</td>\n",
       "    </tr>\n",
       "  </tbody>\n",
       "</table>\n",
       "</div>"
      ],
      "text/plain": [
       "     cust_id    seg_name  trans_id  prod_id category brand       prod_name  \\\n",
       "426  1264766         VIP      2133   248225  Make up     C  Product 248225   \n",
       "434  1802400    ONE-OFFS       286   248743  Make up     C  Product 248743   \n",
       "631  3568127  INFREQUENT      1819   261231  Make up     C  Product 261231   \n",
       "\n",
       "     item_qty  item_price  revenue  \n",
       "426        17       35.99   602.83  \n",
       "434        16       24.99   399.84  \n",
       "631        18       24.99   449.82  "
      ]
     },
     "execution_count": 25,
     "metadata": {},
     "output_type": "execute_result"
    }
   ],
   "source": [
    "top_make_up = top_make_up.reset_index()\n",
    "top_make_up = top_make_up['prod_id'].head(3)\n",
    "top_make_up = top_make_up.tolist()\n",
    "\n",
    "make_up_df = make_up_df[make_up_df.prod_id.isin(top_make_up)]\n",
    "make_up_df"
   ]
  },
  {
   "cell_type": "markdown",
   "metadata": {},
   "source": [
    "We see that these products that these products were outliers because each product was only purchased once in a large quantity.  This means we can not assume these products are popular or else we would be seeing multiple transactions that contain these products.\n",
    "\n",
    "### Repivot Insight 2\n",
    "\n",
    "This means we should repivot out thinking. Perhaps we should see which brands that customers seem to purchase the most. This way we can recommend to try and focus relationship efforts with that brand. We can even see the breakdown of which segments bought each brand.\n"
   ]
  },
  {
   "cell_type": "code",
   "execution_count": 26,
   "metadata": {},
   "outputs": [
    {
     "data": {
      "text/html": [
       "<div>\n",
       "<style scoped>\n",
       "    .dataframe tbody tr th:only-of-type {\n",
       "        vertical-align: middle;\n",
       "    }\n",
       "\n",
       "    .dataframe tbody tr th {\n",
       "        vertical-align: top;\n",
       "    }\n",
       "\n",
       "    .dataframe thead th {\n",
       "        text-align: right;\n",
       "    }\n",
       "</style>\n",
       "<table border=\"1\" class=\"dataframe\">\n",
       "  <thead>\n",
       "    <tr style=\"text-align: right;\">\n",
       "      <th></th>\n",
       "      <th>seg_name</th>\n",
       "      <th>brand</th>\n",
       "      <th>item_qty</th>\n",
       "      <th>revenue</th>\n",
       "    </tr>\n",
       "  </thead>\n",
       "  <tbody>\n",
       "    <tr>\n",
       "      <th>0</th>\n",
       "      <td>INFREQUENT</td>\n",
       "      <td>A</td>\n",
       "      <td>145</td>\n",
       "      <td>2278.00</td>\n",
       "    </tr>\n",
       "    <tr>\n",
       "      <th>1</th>\n",
       "      <td>INFREQUENT</td>\n",
       "      <td>B</td>\n",
       "      <td>80</td>\n",
       "      <td>2712.83</td>\n",
       "    </tr>\n",
       "    <tr>\n",
       "      <th>2</th>\n",
       "      <td>INFREQUENT</td>\n",
       "      <td>C</td>\n",
       "      <td>267</td>\n",
       "      <td>10727.77</td>\n",
       "    </tr>\n",
       "    <tr>\n",
       "      <th>3</th>\n",
       "      <td>INFREQUENT</td>\n",
       "      <td>D</td>\n",
       "      <td>85</td>\n",
       "      <td>4548.73</td>\n",
       "    </tr>\n",
       "    <tr>\n",
       "      <th>4</th>\n",
       "      <td>INFREQUENT</td>\n",
       "      <td>E</td>\n",
       "      <td>47</td>\n",
       "      <td>1585.54</td>\n",
       "    </tr>\n",
       "    <tr>\n",
       "      <th>...</th>\n",
       "      <td>...</td>\n",
       "      <td>...</td>\n",
       "      <td>...</td>\n",
       "      <td>...</td>\n",
       "    </tr>\n",
       "    <tr>\n",
       "      <th>98</th>\n",
       "      <td>VIP</td>\n",
       "      <td>T</td>\n",
       "      <td>10</td>\n",
       "      <td>439.96</td>\n",
       "    </tr>\n",
       "    <tr>\n",
       "      <th>99</th>\n",
       "      <td>VIP</td>\n",
       "      <td>U</td>\n",
       "      <td>33</td>\n",
       "      <td>1019.67</td>\n",
       "    </tr>\n",
       "    <tr>\n",
       "      <th>100</th>\n",
       "      <td>VIP</td>\n",
       "      <td>V</td>\n",
       "      <td>1</td>\n",
       "      <td>71.99</td>\n",
       "    </tr>\n",
       "    <tr>\n",
       "      <th>101</th>\n",
       "      <td>VIP</td>\n",
       "      <td>Y</td>\n",
       "      <td>33</td>\n",
       "      <td>1167.17</td>\n",
       "    </tr>\n",
       "    <tr>\n",
       "      <th>102</th>\n",
       "      <td>VIP</td>\n",
       "      <td>Z</td>\n",
       "      <td>3</td>\n",
       "      <td>96.70</td>\n",
       "    </tr>\n",
       "  </tbody>\n",
       "</table>\n",
       "<p>103 rows × 4 columns</p>\n",
       "</div>"
      ],
      "text/plain": [
       "       seg_name brand  item_qty   revenue\n",
       "0    INFREQUENT     A       145   2278.00\n",
       "1    INFREQUENT     B        80   2712.83\n",
       "2    INFREQUENT     C       267  10727.77\n",
       "3    INFREQUENT     D        85   4548.73\n",
       "4    INFREQUENT     E        47   1585.54\n",
       "..          ...   ...       ...       ...\n",
       "98          VIP     T        10    439.96\n",
       "99          VIP     U        33   1019.67\n",
       "100         VIP     V         1     71.99\n",
       "101         VIP     Y        33   1167.17\n",
       "102         VIP     Z         3     96.70\n",
       "\n",
       "[103 rows x 4 columns]"
      ]
     },
     "execution_count": 26,
     "metadata": {},
     "output_type": "execute_result"
    }
   ],
   "source": [
    "query_product_revenue = '''\n",
    "WITH active_segments AS (\n",
    "SELECT cust_id,\n",
    "        seg_name\n",
    "FROM segments\n",
    "WHERE active_flag = 'Y'\n",
    ")\n",
    "\n",
    "SELECT s.seg_name,\n",
    "       p.brand,\n",
    "       SUM(t.item_qty) AS item_qty,\n",
    "       SUM(t.item_qty * t.item_price) AS revenue\n",
    "FROM transactions t\n",
    "INNER JOIN active_segments s ON t.cust_id = s.cust_id\n",
    "INNER JOIN products p ON t.prod_id = p.prod_id\n",
    "GROUP BY s.seg_name, p.brand\n",
    "'''\n",
    "\n",
    "\n",
    "product_df = pd.read_sql_query(query_product_revenue, conn)\n",
    "product_df"
   ]
  },
  {
   "cell_type": "markdown",
   "metadata": {},
   "source": [
    "Let us now plot the number of items bought for each brand."
   ]
  },
  {
   "cell_type": "code",
   "execution_count": 27,
   "metadata": {},
   "outputs": [
    {
     "data": {
      "image/png": "[encoded data removed]",
      "text/plain": [
       "<Figure size 1152x720 with 1 Axes>"
      ]
     },
     "metadata": {
      "needs_background": "light"
     },
     "output_type": "display_data"
    }
   ],
   "source": [
    "fig = plt.figure(figsize=(16,10))\n",
    "sns.barplot(x='brand', y='item_qty', hue='seg_name', data=product_df)\n",
    "plt.title('Items Purchased Form Each Brand', fontsize=20)\n",
    "plt.xlabel('Brand', fontsize=15)\n",
    "plt.ylabel('Items Purchased)', fontsize=15)\n",
    "plt.show()"
   ]
  },
  {
   "cell_type": "markdown",
   "metadata": {},
   "source": [
    "To build off of our recommendation from the first slide, let us see which brands 'infrequent' customers purchase from."
   ]
  },
  {
   "cell_type": "code",
   "execution_count": 29,
   "metadata": {},
   "outputs": [
    {
     "name": "stdout",
     "output_type": "stream",
     "text": [
      "brand\n",
      "C    267\n",
      "A    145\n",
      "M    142\n",
      "L     94\n",
      "D     85\n",
      "Name: item_qty, dtype: int64\n",
      "\n",
      "\n",
      "Total products purchased in the infrequent segment\n",
      "1171\n",
      "\n",
      "\n",
      "Total number of brands\n",
      "22\n"
     ]
    }
   ],
   "source": [
    "print(product_df[product_df['seg_name'] == 'INFREQUENT']\n",
    "                .groupby('brand')\n",
    "                ['item_qty'].sum()\n",
    "                .sort_values(ascending=False)\n",
    "                .head(5))\n",
    "print('\\n')\n",
    "print('Total products purchased in the infrequent segment')\n",
    "print(product_df[product_df['seg_name'] == 'INFREQUENT']['item_qty'].sum())\n",
    "print('\\n')\n",
    "print('Total number of brands')\n",
    "print(len(product_df['brand'].unique()))"
   ]
  },
  {
   "cell_type": "markdown",
   "metadata": {},
   "source": [
    "Before we can create our slide let us figure out the market share in percentage for the top 5 brands."
   ]
  },
  {
   "cell_type": "code",
   "execution_count": 30,
   "metadata": {},
   "outputs": [
    {
     "name": "stdout",
     "output_type": "stream",
     "text": [
      "      seg_name brand  item_qty   revenue  market_share\n",
      "2   INFREQUENT     C       267  10727.77      0.228010\n",
      "0   INFREQUENT     A       145   2278.00      0.123826\n",
      "12  INFREQUENT     M       142   1933.60      0.121264\n",
      "11  INFREQUENT     L        94   3393.17      0.080273\n",
      "3   INFREQUENT     D        85   4548.73      0.072588\n"
     ]
    }
   ],
   "source": [
    "def find_market_share(segment):\n",
    "    segment_df = product_df[product_df['seg_name'] == segment].copy()\n",
    "    total_items_purchased = segment_df['item_qty'].sum()\n",
    "    segment_df['market_share'] = segment_df['item_qty'] / total_items_purchased\n",
    "    segment_df.sort_values('market_share', ascending=False, inplace=True)\n",
    "    return segment_df.head(5)\n",
    "\n",
    "\n",
    "print(find_market_share('INFREQUENT'))"
   ]
  },
  {
   "cell_type": "markdown",
   "metadata": {},
   "source": [
    "We see that the top brands for infrequent customers are C, A, and M. We can suggest that we build a relationship with brand C. From the graph we also see that brand C holds the highest market share for the 'loyal' and 'VIP' customers. We should figure out the market share that brand C holds for these two segments to support our recommendation."
   ]
  },
  {
   "cell_type": "code",
   "execution_count": 31,
   "metadata": {},
   "outputs": [
    {
     "name": "stdout",
     "output_type": "stream",
     "text": [
      "   seg_name brand  item_qty  revenue  market_share\n",
      "24    LOYAL     C       189  7613.14      0.216247\n",
      "38    LOYAL     S        97  3735.37      0.110984\n",
      "23    LOYAL     B        75  2494.08      0.085812\n",
      "34    LOYAL     M        75  1191.19      0.085812\n",
      "22    LOYAL     A        74  1228.33      0.084668\n",
      "\n",
      "\n",
      "   seg_name brand  item_qty   revenue  market_share\n",
      "84      VIP     C       279  11486.31      0.217290\n",
      "83      VIP     B       160   5824.13      0.124611\n",
      "97      VIP     S       127   5587.24      0.098910\n",
      "86      VIP     E       105   4970.45      0.081776\n",
      "82      VIP     A       104   1048.13      0.080997\n"
     ]
    }
   ],
   "source": [
    "print(find_market_share('LOYAL'))\n",
    "print('\\n')\n",
    "print(find_market_share('VIP'))"
   ]
  },
  {
   "cell_type": "markdown",
   "metadata": {},
   "source": [
    "Since brand C has such a big share of the market we should find out what category of items they are selling the most."
   ]
  },
  {
   "cell_type": "code",
   "execution_count": 32,
   "metadata": {},
   "outputs": [
    {
     "data": {
      "text/html": [
       "<div>\n",
       "<style scoped>\n",
       "    .dataframe tbody tr th:only-of-type {\n",
       "        vertical-align: middle;\n",
       "    }\n",
       "\n",
       "    .dataframe tbody tr th {\n",
       "        vertical-align: top;\n",
       "    }\n",
       "\n",
       "    .dataframe thead th {\n",
       "        text-align: right;\n",
       "    }\n",
       "</style>\n",
       "<table border=\"1\" class=\"dataframe\">\n",
       "  <thead>\n",
       "    <tr style=\"text-align: right;\">\n",
       "      <th></th>\n",
       "      <th>seg_name</th>\n",
       "      <th>brand</th>\n",
       "      <th>category</th>\n",
       "      <th>item_qty</th>\n",
       "    </tr>\n",
       "  </thead>\n",
       "  <tbody>\n",
       "    <tr>\n",
       "      <th>0</th>\n",
       "      <td>VIP</td>\n",
       "      <td>C</td>\n",
       "      <td>Men</td>\n",
       "      <td>279</td>\n",
       "    </tr>\n",
       "    <tr>\n",
       "      <th>1</th>\n",
       "      <td>INFREQUENT</td>\n",
       "      <td>C</td>\n",
       "      <td>Women</td>\n",
       "      <td>267</td>\n",
       "    </tr>\n",
       "    <tr>\n",
       "      <th>2</th>\n",
       "      <td>LOYAL</td>\n",
       "      <td>C</td>\n",
       "      <td>Make up</td>\n",
       "      <td>189</td>\n",
       "    </tr>\n",
       "    <tr>\n",
       "      <th>3</th>\n",
       "      <td>ONE-OFFS</td>\n",
       "      <td>C</td>\n",
       "      <td>Make up</td>\n",
       "      <td>108</td>\n",
       "    </tr>\n",
       "    <tr>\n",
       "      <th>4</th>\n",
       "      <td>NEW</td>\n",
       "      <td>C</td>\n",
       "      <td>Men</td>\n",
       "      <td>41</td>\n",
       "    </tr>\n",
       "  </tbody>\n",
       "</table>\n",
       "</div>"
      ],
      "text/plain": [
       "     seg_name brand category  item_qty\n",
       "0         VIP     C      Men       279\n",
       "1  INFREQUENT     C    Women       267\n",
       "2       LOYAL     C  Make up       189\n",
       "3    ONE-OFFS     C  Make up       108\n",
       "4         NEW     C      Men        41"
      ]
     },
     "execution_count": 32,
     "metadata": {},
     "output_type": "execute_result"
    }
   ],
   "source": [
    "query_brand_c = '''\n",
    "WITH active_segments AS (\n",
    "SELECT cust_id,\n",
    "        seg_name\n",
    "FROM segments\n",
    "WHERE active_flag = 'Y'\n",
    ")\n",
    "\n",
    "SELECT s.seg_name,\n",
    "       p.brand,\n",
    "       p.category,\n",
    "       SUM(t.item_qty) AS item_qty\n",
    "FROM transactions t\n",
    "INNER JOIN active_segments s ON t.cust_id = s.cust_id\n",
    "INNER JOIN products p ON t.prod_id = p.prod_id\n",
    "WHERE p.brand = 'C'\n",
    "GROUP BY s.seg_name, p.brand\n",
    "ORDER BY item_qty DESC\n",
    "'''\n",
    "\n",
    "brand_c_df = pd.read_sql_query(query_brand_c, conn)\n",
    "brand_c_df"
   ]
  },
  {
   "cell_type": "markdown",
   "metadata": {},
   "source": [
    "We see that the category that brand C sells the most is 'Men' and 'Women'. With this information we can now create our slide."
   ]
  },
  {
   "cell_type": "markdown",
   "metadata": {},
   "source": [
    "### Insight 3\n",
    "\n",
    "For our third insight we are going to see how long it takes a customer to go from 'infrequent' to either 'loyal' or 'VIP'.\n",
    "\n",
    "For our query we are going to assume that customers who are 'infrequent' can't revert back to 'new' or 'one-off'. We also will not include any customers who's active status is 'infrequent'"
   ]
  },
  {
   "cell_type": "code",
   "execution_count": 33,
   "metadata": {},
   "outputs": [
    {
     "name": "stdout",
     "output_type": "stream",
     "text": [
      "['INFREQUENT' 'LOYAL' 'VIP']\n",
      "   cust_id    seg_name            update_at\n",
      "0    11248  INFREQUENT  2016-01-01 00:00:00\n",
      "1    11248       LOYAL  2016-02-01 00:00:00\n",
      "2    12064       LOYAL  2014-01-01 00:00:00\n",
      "3    12064  INFREQUENT  2014-02-01 00:00:00\n",
      "4    12064  INFREQUENT  2014-03-01 00:00:00\n",
      "5    12064  INFREQUENT  2014-07-01 00:00:00\n",
      "6    12064  INFREQUENT  2014-09-01 00:00:00\n",
      "7    12064  INFREQUENT  2014-12-01 00:00:00\n",
      "8    12064  INFREQUENT  2015-06-01 00:00:00\n",
      "9    12064  INFREQUENT  2015-12-01 00:00:00\n"
     ]
    }
   ],
   "source": [
    "query_customers = '''\n",
    "SELECT cust_id,\n",
    "       seg_name,\n",
    "       update_at\n",
    "FROM segments\n",
    "WHERE seg_name = 'LOYAL' \n",
    "OR seg_name = 'VIP'\n",
    "OR (seg_name = 'INFREQUENT' AND active_flag != 'Y')\n",
    "ORDER BY cust_id, update_at;\n",
    "'''\n",
    "\n",
    "customer_df = pd.read_sql_query(query_customers, conn)\n",
    "print(customer_df['seg_name'].unique())\n",
    "print(customer_df.head(10))"
   ]
  },
  {
   "cell_type": "markdown",
   "metadata": {},
   "source": [
    "For each customer ID we are going to find the minimum date for each segment. We are going to assume that at this date either they started off in that segment or that was the date that the segment was changed."
   ]
  },
  {
   "cell_type": "code",
   "execution_count": 34,
   "metadata": {},
   "outputs": [
    {
     "data": {
      "text/html": [
       "<div>\n",
       "<style scoped>\n",
       "    .dataframe tbody tr th:only-of-type {\n",
       "        vertical-align: middle;\n",
       "    }\n",
       "\n",
       "    .dataframe tbody tr th {\n",
       "        vertical-align: top;\n",
       "    }\n",
       "\n",
       "    .dataframe thead th {\n",
       "        text-align: right;\n",
       "    }\n",
       "</style>\n",
       "<table border=\"1\" class=\"dataframe\">\n",
       "  <thead>\n",
       "    <tr style=\"text-align: right;\">\n",
       "      <th></th>\n",
       "      <th>cust_id</th>\n",
       "      <th>seg_name</th>\n",
       "      <th>update_at</th>\n",
       "    </tr>\n",
       "  </thead>\n",
       "  <tbody>\n",
       "    <tr>\n",
       "      <th>0</th>\n",
       "      <td>11248</td>\n",
       "      <td>INFREQUENT</td>\n",
       "      <td>2016-01-01 00:00:00</td>\n",
       "    </tr>\n",
       "    <tr>\n",
       "      <th>1</th>\n",
       "      <td>11248</td>\n",
       "      <td>LOYAL</td>\n",
       "      <td>2016-02-01 00:00:00</td>\n",
       "    </tr>\n",
       "    <tr>\n",
       "      <th>2</th>\n",
       "      <td>12064</td>\n",
       "      <td>INFREQUENT</td>\n",
       "      <td>2014-02-01 00:00:00</td>\n",
       "    </tr>\n",
       "    <tr>\n",
       "      <th>3</th>\n",
       "      <td>12064</td>\n",
       "      <td>LOYAL</td>\n",
       "      <td>2014-01-01 00:00:00</td>\n",
       "    </tr>\n",
       "    <tr>\n",
       "      <th>4</th>\n",
       "      <td>66706</td>\n",
       "      <td>INFREQUENT</td>\n",
       "      <td>2014-01-01 00:00:00</td>\n",
       "    </tr>\n",
       "    <tr>\n",
       "      <th>...</th>\n",
       "      <td>...</td>\n",
       "      <td>...</td>\n",
       "      <td>...</td>\n",
       "    </tr>\n",
       "    <tr>\n",
       "      <th>1112</th>\n",
       "      <td>20044027</td>\n",
       "      <td>INFREQUENT</td>\n",
       "      <td>2016-01-01 00:00:00</td>\n",
       "    </tr>\n",
       "    <tr>\n",
       "      <th>1113</th>\n",
       "      <td>20132046</td>\n",
       "      <td>VIP</td>\n",
       "      <td>2016-02-01 00:00:00</td>\n",
       "    </tr>\n",
       "    <tr>\n",
       "      <th>1114</th>\n",
       "      <td>20259860</td>\n",
       "      <td>LOYAL</td>\n",
       "      <td>2016-02-01 00:00:00</td>\n",
       "    </tr>\n",
       "    <tr>\n",
       "      <th>1115</th>\n",
       "      <td>20330348</td>\n",
       "      <td>LOYAL</td>\n",
       "      <td>2016-03-01 00:00:00</td>\n",
       "    </tr>\n",
       "    <tr>\n",
       "      <th>1116</th>\n",
       "      <td>20356677</td>\n",
       "      <td>VIP</td>\n",
       "      <td>2016-03-01 00:00:00</td>\n",
       "    </tr>\n",
       "  </tbody>\n",
       "</table>\n",
       "<p>1117 rows × 3 columns</p>\n",
       "</div>"
      ],
      "text/plain": [
       "       cust_id    seg_name            update_at\n",
       "0        11248  INFREQUENT  2016-01-01 00:00:00\n",
       "1        11248       LOYAL  2016-02-01 00:00:00\n",
       "2        12064  INFREQUENT  2014-02-01 00:00:00\n",
       "3        12064       LOYAL  2014-01-01 00:00:00\n",
       "4        66706  INFREQUENT  2014-01-01 00:00:00\n",
       "...        ...         ...                  ...\n",
       "1112  20044027  INFREQUENT  2016-01-01 00:00:00\n",
       "1113  20132046         VIP  2016-02-01 00:00:00\n",
       "1114  20259860       LOYAL  2016-02-01 00:00:00\n",
       "1115  20330348       LOYAL  2016-03-01 00:00:00\n",
       "1116  20356677         VIP  2016-03-01 00:00:00\n",
       "\n",
       "[1117 rows x 3 columns]"
      ]
     },
     "execution_count": 34,
     "metadata": {},
     "output_type": "execute_result"
    }
   ],
   "source": [
    "customer_pt = pd.pivot_table(customer_df, values=['update_at'], index=['cust_id', 'seg_name'], aggfunc=min)\n",
    "customer_pt = customer_pt.reset_index()\n",
    "customer_pt"
   ]
  },
  {
   "cell_type": "markdown",
   "metadata": {},
   "source": [
    "We see in this pivot table that for each customer the `seg_name` column starts with the 'infrequent' value first. In order to find how long a customer went from 'infrequent' to either 'loyal' or 'VIP' we can subtract the date associated with those two segments from the date associated with 'infrequent'\n",
    "\n",
    "If we get a positive number that means a customer moved up from 'infrequent' since the date that they became 'loyal' or 'VIP' should be greater than the date they were labeled as 'infrequent'. This means if we get a negative number then that means the customer actually moved down to 'infrequent'.\n",
    "\n",
    "First we should check if the `update_at` column is labeled as datetime."
   ]
  },
  {
   "cell_type": "code",
   "execution_count": 35,
   "metadata": {},
   "outputs": [
    {
     "name": "stdout",
     "output_type": "stream",
     "text": [
      "cust_id       int64\n",
      "seg_name     object\n",
      "update_at    object\n",
      "dtype: object\n"
     ]
    }
   ],
   "source": [
    "print(customer_pt.dtypes)"
   ]
  },
  {
   "cell_type": "code",
   "execution_count": 36,
   "metadata": {},
   "outputs": [
    {
     "name": "stdout",
     "output_type": "stream",
     "text": [
      "cust_id               int64\n",
      "seg_name             object\n",
      "update_at    datetime64[ns]\n",
      "dtype: object\n"
     ]
    }
   ],
   "source": [
    "#Since the update_at column is not a datetime object we need to change it as such\n",
    "\n",
    "customer_pt['update_at'] = pd.to_datetime(customer_pt['update_at'])\n",
    "print(customer_pt.dtypes)"
   ]
  },
  {
   "cell_type": "code",
   "execution_count": 37,
   "metadata": {},
   "outputs": [
    {
     "name": "stdout",
     "output_type": "stream",
     "text": [
      "Example of a customer moving up from infrequent\n",
      "   cust_id    seg_name  update_at\n",
      "0    11248  INFREQUENT 2016-01-01\n",
      "1    11248       LOYAL 2016-02-01\n",
      "Notice that the time difference is positive\n",
      "31 days 00:00:00\n",
      "\n",
      "\n",
      "Example of a customer moving down into infrequent\n",
      "   cust_id    seg_name  update_at\n",
      "2    12064  INFREQUENT 2014-02-01\n",
      "3    12064       LOYAL 2014-01-01\n",
      "Notice that the time difference is negative\n",
      "-31 days +00:00:00\n"
     ]
    }
   ],
   "source": [
    "#Now that the update_at column is a datetime object we can continue\n",
    "#Below is an example of what the difference in times will look like\n",
    "\n",
    "import datetime as dt\n",
    "\n",
    "print('Example of a customer moving up from infrequent')\n",
    "cust = customer_pt[customer_pt['cust_id'] == 11248]\n",
    "print(cust)\n",
    "date = cust.iloc[1,2] - cust.iloc[0,2]\n",
    "print('Notice that the time difference is positive')\n",
    "print(date)\n",
    "\n",
    "print('\\n')\n",
    "print('Example of a customer moving down into infrequent')\n",
    "cust = customer_pt[customer_pt['cust_id'] == 12064]\n",
    "print(cust)\n",
    "date = cust.iloc[1,2] - cust.iloc[0,2]\n",
    "print('Notice that the time difference is negative')\n",
    "print(date)"
   ]
  },
  {
   "cell_type": "code",
   "execution_count": 38,
   "metadata": {
    "scrolled": true
   },
   "outputs": [
    {
     "name": "stdout",
     "output_type": "stream",
     "text": [
      "[Timedelta('31 days 00:00:00'), Timedelta('-31 days +00:00:00'), Timedelta('334 days 00:00:00'), Timedelta('365 days 00:00:00'), Timedelta('700 days 00:00:00'), Timedelta('150 days 00:00:00'), Timedelta('-153 days +00:00:00'), Timedelta('-304 days +00:00:00'), Timedelta('365 days 00:00:00'), Timedelta('151 days 00:00:00'), Timedelta('424 days 00:00:00'), Timedelta('-59 days +00:00:00'), Timedelta('396 days 00:00:00'), Timedelta('61 days 00:00:00'), Timedelta('-90 days +00:00:00'), Timedelta('273 days 00:00:00'), Timedelta('577 days 00:00:00'), Timedelta('-31 days +00:00:00'), Timedelta('671 days 00:00:00'), Timedelta('-90 days +00:00:00'), Timedelta('-151 days +00:00:00'), Timedelta('638 days 00:00:00'), Timedelta('-546 days +00:00:00'), Timedelta('59 days 00:00:00'), Timedelta('424 days 00:00:00'), Timedelta('90 days 00:00:00'), Timedelta('-120 days +00:00:00'), Timedelta('-90 days +00:00:00'), Timedelta('212 days 00:00:00'), Timedelta('365 days 00:00:00'), Timedelta('-212 days +00:00:00'), Timedelta('424 days 00:00:00'), Timedelta('-273 days +00:00:00'), Timedelta('243 days 00:00:00'), Timedelta('-730 days +00:00:00'), Timedelta('-214 days +00:00:00'), Timedelta('-151 days +00:00:00'), Timedelta('-212 days +00:00:00'), Timedelta('212 days 00:00:00'), Timedelta('546 days 00:00:00'), Timedelta('424 days 00:00:00'), Timedelta('-151 days +00:00:00'), Timedelta('215 days 00:00:00'), Timedelta('365 days 00:00:00'), Timedelta('-120 days +00:00:00'), Timedelta('-181 days +00:00:00'), Timedelta('-92 days +00:00:00'), Timedelta('761 days 00:00:00'), Timedelta('89 days 00:00:00'), Timedelta('212 days 00:00:00'), Timedelta('-273 days +00:00:00'), Timedelta('-31 days +00:00:00'), Timedelta('-243 days +00:00:00'), Timedelta('549 days 00:00:00'), Timedelta('-59 days +00:00:00'), Timedelta('-90 days +00:00:00'), Timedelta('31 days 00:00:00'), Timedelta('212 days 00:00:00'), Timedelta('699 days 00:00:00'), Timedelta('-212 days +00:00:00'), Timedelta('-61 days +00:00:00'), Timedelta('730 days 00:00:00'), Timedelta('-151 days +00:00:00'), Timedelta('181 days 00:00:00'), Timedelta('151 days 00:00:00'), Timedelta('-31 days +00:00:00'), Timedelta('702 days 00:00:00'), Timedelta('485 days 00:00:00'), Timedelta('-181 days +00:00:00'), Timedelta('-59 days +00:00:00'), Timedelta('-30 days +00:00:00'), Timedelta('-90 days +00:00:00'), Timedelta('-61 days +00:00:00'), Timedelta('92 days 00:00:00'), Timedelta('365 days 00:00:00'), Timedelta('184 days 00:00:00'), Timedelta('-181 days +00:00:00'), Timedelta('427 days 00:00:00'), Timedelta('-59 days +00:00:00'), Timedelta('-396 days +00:00:00'), Timedelta('-181 days +00:00:00'), Timedelta('31 days 00:00:00'), Timedelta('120 days 00:00:00'), Timedelta('365 days 00:00:00'), Timedelta('181 days 00:00:00'), Timedelta('304 days 00:00:00'), Timedelta('-365 days +00:00:00'), Timedelta('396 days 00:00:00'), Timedelta('-31 days +00:00:00'), Timedelta('-334 days +00:00:00'), Timedelta('-212 days +00:00:00'), Timedelta('334 days 00:00:00'), Timedelta('455 days 00:00:00'), Timedelta('-120 days +00:00:00'), Timedelta('91 days 00:00:00'), Timedelta('-151 days +00:00:00'), Timedelta('424 days 00:00:00'), Timedelta('-334 days +00:00:00'), Timedelta('90 days 00:00:00'), Timedelta('-122 days +00:00:00'), Timedelta('153 days 00:00:00'), Timedelta('-151 days +00:00:00'), Timedelta('365 days 00:00:00'), Timedelta('-120 days +00:00:00'), Timedelta('181 days 00:00:00'), Timedelta('151 days 00:00:00'), Timedelta('120 days 00:00:00'), Timedelta('151 days 00:00:00'), Timedelta('243 days 00:00:00'), Timedelta('-31 days +00:00:00'), Timedelta('-396 days +00:00:00'), Timedelta('59 days 00:00:00'), Timedelta('396 days 00:00:00'), Timedelta('-122 days +00:00:00'), Timedelta('212 days 00:00:00'), Timedelta('-151 days +00:00:00'), Timedelta('761 days 00:00:00'), Timedelta('151 days 00:00:00'), Timedelta('761 days 00:00:00'), Timedelta('29 days 00:00:00'), Timedelta('-212 days +00:00:00'), Timedelta('-31 days +00:00:00'), Timedelta('-59 days +00:00:00'), Timedelta('-335 days +00:00:00'), Timedelta('365 days 00:00:00'), Timedelta('31 days 00:00:00'), Timedelta('-851 days +00:00:00'), Timedelta('334 days 00:00:00'), Timedelta('151 days 00:00:00'), Timedelta('396 days 00:00:00'), Timedelta('-181 days +00:00:00'), Timedelta('151 days 00:00:00'), Timedelta('485 days 00:00:00'), Timedelta('-546 days +00:00:00'), Timedelta('396 days 00:00:00'), Timedelta('-608 days +00:00:00'), Timedelta('120 days 00:00:00'), Timedelta('424 days 00:00:00'), Timedelta('-31 days +00:00:00'), Timedelta('59 days 00:00:00'), Timedelta('273 days 00:00:00'), Timedelta('184 days 00:00:00'), Timedelta('120 days 00:00:00'), Timedelta('-243 days +00:00:00'), Timedelta('31 days 00:00:00'), Timedelta('-31 days +00:00:00'), Timedelta('-31 days +00:00:00'), Timedelta('396 days 00:00:00'), Timedelta('485 days 00:00:00'), Timedelta('-365 days +00:00:00'), Timedelta('-455 days +00:00:00'), Timedelta('92 days 00:00:00'), Timedelta('62 days 00:00:00'), Timedelta('122 days 00:00:00'), Timedelta('183 days 00:00:00'), Timedelta('90 days 00:00:00'), Timedelta('334 days 00:00:00'), Timedelta('761 days 00:00:00'), Timedelta('365 days 00:00:00'), Timedelta('275 days 00:00:00'), Timedelta('-243 days +00:00:00'), Timedelta('-669 days +00:00:00'), Timedelta('-546 days +00:00:00'), Timedelta('212 days 00:00:00'), Timedelta('181 days 00:00:00'), Timedelta('730 days 00:00:00'), Timedelta('-365 days +00:00:00'), Timedelta('-396 days +00:00:00'), Timedelta('-485 days +00:00:00'), Timedelta('59 days 00:00:00'), Timedelta('151 days 00:00:00'), Timedelta('-151 days +00:00:00'), Timedelta('92 days 00:00:00'), Timedelta('-120 days +00:00:00'), Timedelta('151 days 00:00:00'), Timedelta('243 days 00:00:00'), Timedelta('730 days 00:00:00'), Timedelta('485 days 00:00:00'), Timedelta('-821 days +00:00:00'), Timedelta('365 days 00:00:00'), Timedelta('669 days 00:00:00'), Timedelta('59 days 00:00:00'), Timedelta('-577 days +00:00:00'), Timedelta('579 days 00:00:00'), Timedelta('-31 days +00:00:00'), Timedelta('424 days 00:00:00'), Timedelta('120 days 00:00:00'), Timedelta('273 days 00:00:00'), Timedelta('151 days 00:00:00'), Timedelta('31 days 00:00:00'), Timedelta('730 days 00:00:00'), Timedelta('151 days 00:00:00'), Timedelta('-273 days +00:00:00'), Timedelta('-640 days +00:00:00'), Timedelta('607 days 00:00:00'), Timedelta('30 days 00:00:00'), Timedelta('-334 days +00:00:00'), Timedelta('214 days 00:00:00'), Timedelta('-485 days +00:00:00'), Timedelta('214 days 00:00:00'), Timedelta('61 days 00:00:00'), Timedelta('61 days 00:00:00'), Timedelta('334 days 00:00:00'), Timedelta('702 days 00:00:00'), Timedelta('212 days 00:00:00'), Timedelta('151 days 00:00:00'), Timedelta('-334 days +00:00:00'), Timedelta('-851 days +00:00:00'), Timedelta('-243 days +00:00:00'), Timedelta('455 days 00:00:00'), Timedelta('-151 days +00:00:00'), Timedelta('-151 days +00:00:00'), Timedelta('275 days 00:00:00'), Timedelta('59 days 00:00:00'), Timedelta('59 days 00:00:00'), Timedelta('-150 days +00:00:00'), Timedelta('-546 days +00:00:00'), Timedelta('61 days 00:00:00'), Timedelta('-699 days +00:00:00'), Timedelta('-151 days +00:00:00'), Timedelta('-181 days +00:00:00'), Timedelta('761 days 00:00:00'), Timedelta('-31 days +00:00:00'), Timedelta('546 days 00:00:00'), Timedelta('516 days 00:00:00'), Timedelta('90 days 00:00:00'), Timedelta('-638 days +00:00:00'), Timedelta('-334 days +00:00:00'), Timedelta('-59 days +00:00:00'), Timedelta('-546 days +00:00:00'), Timedelta('485 days 00:00:00'), Timedelta('-31 days +00:00:00'), Timedelta('306 days 00:00:00'), Timedelta('-59 days +00:00:00'), Timedelta('455 days 00:00:00'), Timedelta('305 days 00:00:00'), Timedelta('120 days 00:00:00'), Timedelta('-31 days +00:00:00'), Timedelta('122 days 00:00:00'), Timedelta('151 days 00:00:00'), Timedelta('245 days 00:00:00'), Timedelta('-243 days +00:00:00'), Timedelta('31 days 00:00:00'), Timedelta('-424 days +00:00:00'), Timedelta('365 days 00:00:00'), Timedelta('31 days 00:00:00'), Timedelta('487 days 00:00:00'), Timedelta('-59 days +00:00:00'), Timedelta('730 days 00:00:00'), Timedelta('181 days 00:00:00'), Timedelta('273 days 00:00:00'), Timedelta('-424 days +00:00:00'), Timedelta('485 days 00:00:00'), Timedelta('-273 days +00:00:00'), Timedelta('-485 days +00:00:00'), Timedelta('-669 days +00:00:00'), Timedelta('-424 days +00:00:00'), Timedelta('62 days 00:00:00'), Timedelta('-334 days +00:00:00'), Timedelta('396 days 00:00:00'), Timedelta('-365 days +00:00:00'), Timedelta('-304 days +00:00:00'), Timedelta('61 days 00:00:00'), Timedelta('59 days 00:00:00'), Timedelta('610 days 00:00:00'), Timedelta('120 days 00:00:00'), Timedelta('59 days 00:00:00'), Timedelta('-90 days +00:00:00'), Timedelta('516 days 00:00:00'), Timedelta('59 days 00:00:00'), Timedelta('-365 days +00:00:00'), Timedelta('-638 days +00:00:00'), Timedelta('31 days 00:00:00'), Timedelta('-396 days +00:00:00'), Timedelta('-365 days +00:00:00'), Timedelta('-31 days +00:00:00'), Timedelta('-62 days +00:00:00'), Timedelta('31 days 00:00:00'), Timedelta('761 days 00:00:00'), Timedelta('761 days 00:00:00'), Timedelta('123 days 00:00:00'), Timedelta('518 days 00:00:00'), Timedelta('31 days 00:00:00'), Timedelta('59 days 00:00:00'), Timedelta('-396 days +00:00:00'), Timedelta('31 days 00:00:00'), Timedelta('120 days 00:00:00'), Timedelta('-90 days +00:00:00'), Timedelta('31 days 00:00:00'), Timedelta('304 days 00:00:00'), Timedelta('61 days 00:00:00'), Timedelta('-120 days +00:00:00'), Timedelta('-577 days +00:00:00'), Timedelta('882 days 00:00:00'), Timedelta('-608 days +00:00:00'), Timedelta('-120 days +00:00:00'), Timedelta('304 days 00:00:00'), Timedelta('-62 days +00:00:00'), Timedelta('31 days 00:00:00'), Timedelta('276 days 00:00:00'), Timedelta('396 days 00:00:00'), Timedelta('90 days 00:00:00'), Timedelta('243 days 00:00:00'), Timedelta('730 days 00:00:00'), Timedelta('-90 days +00:00:00'), Timedelta('579 days 00:00:00'), Timedelta('761 days 00:00:00'), Timedelta('243 days 00:00:00'), Timedelta('243 days 00:00:00'), Timedelta('-90 days +00:00:00'), Timedelta('31 days 00:00:00'), Timedelta('59 days 00:00:00'), Timedelta('-153 days +00:00:00'), Timedelta('-59 days +00:00:00'), Timedelta('396 days 00:00:00'), Timedelta('-59 days +00:00:00'), Timedelta('31 days 00:00:00'), Timedelta('-334 days +00:00:00'), Timedelta('61 days 00:00:00'), Timedelta('821 days 00:00:00'), Timedelta('610 days 00:00:00'), Timedelta('59 days 00:00:00'), Timedelta('-30 days +00:00:00'), Timedelta('243 days 00:00:00'), Timedelta('365 days 00:00:00'), Timedelta('669 days 00:00:00'), Timedelta('-304 days +00:00:00'), Timedelta('181 days 00:00:00'), Timedelta('335 days 00:00:00'), Timedelta('365 days 00:00:00'), Timedelta('184 days 00:00:00'), Timedelta('-151 days +00:00:00'), Timedelta('-546 days +00:00:00'), Timedelta('-31 days +00:00:00'), Timedelta('485 days 00:00:00'), Timedelta('-120 days +00:00:00'), Timedelta('59 days 00:00:00'), Timedelta('-90 days +00:00:00'), Timedelta('153 days 00:00:00'), Timedelta('-59 days +00:00:00'), Timedelta('365 days 00:00:00'), Timedelta('-393 days +00:00:00'), Timedelta('120 days 00:00:00'), Timedelta('90 days 00:00:00'), Timedelta('59 days 00:00:00'), Timedelta('-365 days +00:00:00'), Timedelta('120 days 00:00:00'), Timedelta('31 days 00:00:00'), Timedelta('-334 days +00:00:00'), Timedelta('89 days 00:00:00'), Timedelta('123 days 00:00:00'), Timedelta('-214 days +00:00:00'), Timedelta('122 days 00:00:00'), Timedelta('62 days 00:00:00'), Timedelta('243 days 00:00:00'), Timedelta('91 days 00:00:00'), Timedelta('123 days 00:00:00'), Timedelta('61 days 00:00:00'), Timedelta('30 days 00:00:00'), Timedelta('92 days 00:00:00'), Timedelta('61 days 00:00:00')]\n"
     ]
    }
   ],
   "source": [
    "date_changes = []\n",
    "\n",
    "for cust in customer_pt['cust_id'].unique():\n",
    "    cust_df = customer_pt[customer_pt['cust_id'] == cust]\n",
    "    #This line checks to see if the customer has moved segments\n",
    "    if len(cust_df) > 1:\n",
    "        date_change = cust_df.iloc[1,2] - cust_df.iloc[0,2]\n",
    "        date_changes.append(date_change)\n",
    "        \n",
    "print(date_changes)"
   ]
  },
  {
   "cell_type": "markdown",
   "metadata": {},
   "source": [
    "Let us now examine how many customers have moved from or to the 'infrequent' segment."
   ]
  },
  {
   "cell_type": "code",
   "execution_count": 39,
   "metadata": {},
   "outputs": [
    {
     "name": "stdout",
     "output_type": "stream",
     "text": [
      "The total number of customers that moved into a new segment is 361.\n",
      "True     218\n",
      "False    143\n",
      "dtype: int64\n"
     ]
    }
   ],
   "source": [
    "#Positive timedeltas indicate a move out of infrequent\n",
    "date_changes = pd.Series(date_changes)\n",
    "num_of_changes = len(date_changes)\n",
    "print('The total number of customers that moved into a new segment is {}.'.format(num_of_changes))\n",
    "cust_timedeltas = date_changes > pd.Timedelta(0)\n",
    "num_of_changes = cust_timedeltas.value_counts()\n",
    "print(num_of_changes)"
   ]
  },
  {
   "cell_type": "markdown",
   "metadata": {},
   "source": [
    "We see there were a total of 218 customers that moved out of the 'infrequent' segment and 143 customers that moved into the 'infrequent' segment. Now we need to find the average time that it takes for a customer to move."
   ]
  },
  {
   "cell_type": "code",
   "execution_count": 40,
   "metadata": {},
   "outputs": [
    {
     "name": "stdout",
     "output_type": "stream",
     "text": [
      "280 days 10:01:06.055045\n",
      "-250 days +12:15:06.293706\n"
     ]
    }
   ],
   "source": [
    "moved_up = date_changes[cust_timedeltas]\n",
    "avg_days_moved_up = moved_up.mean()\n",
    "print(avg_days_moved_up)\n",
    "moved_down = date_changes[~cust_timedeltas]\n",
    "avg_days_moved_down = moved_down.mean()\n",
    "print(avg_days_moved_down)"
   ]
  },
  {
   "cell_type": "markdown",
   "metadata": {},
   "source": [
    "We see that the average time it took for a customer to move up from 'infrequent' was 280 days or 9 months. The average time it took for a customer to move down into 'infrequent' was 250 days or 8 months. We need to figure out the date range for the `update_at` column and then we can create our slide."
   ]
  },
  {
   "cell_type": "code",
   "execution_count": 41,
   "metadata": {},
   "outputs": [
    {
     "name": "stdout",
     "output_type": "stream",
     "text": [
      "2014-01-01 00:00:00\n",
      "2016-06-01 00:00:00\n"
     ]
    }
   ],
   "source": [
    "print(customer_df['update_at'].min())\n",
    "print(customer_df['update_at'].max())"
   ]
  },
  {
   "cell_type": "markdown",
   "metadata": {},
   "source": [
    "## Next Steps / Conclusion\n",
    "\n",
    "Next steps would be seeing if we can obtain more demographic data about our customers and more historic data about transactions so we could create a machine learning model that could forecast possible sales.\n",
    "\n",
    "Thank you for reading through this notebook. If you have any questions I would be happy to answer them at the next stage of the interview process. Thank you once again and I hope to hear from you soon."
   ]
  }
 ],
 "metadata": {
  "kernelspec": {
   "display_name": "Python 3",
   "language": "python",
   "name": "python3"
  },
  "language_info": {
   "codemirror_mode": {
    "name": "ipython",
    "version": 3
   },
   "file_extension": ".py",
   "mimetype": "text/x-python",
   "name": "python",
   "nbconvert_exporter": "python",
   "pygments_lexer": "ipython3",
   "version": "3.7.6"
  }
 },
 "nbformat": 4,
 "nbformat_minor": 4
}
