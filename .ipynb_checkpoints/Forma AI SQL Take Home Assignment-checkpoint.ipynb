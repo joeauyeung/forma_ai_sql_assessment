{
 "cells": [
  {
   "cell_type": "markdown",
   "metadata": {},
   "source": [
    "# Forma AI SQL Take Home Assignment\n",
    "\n",
    "The purpose of this notebook is to answer the questions laid out by Forma AI for the data analyst role.\n",
    "\n",
    "As a part of the assignment Forma AI has provided a SQLlite3 database and 5 questions. The questions will be reiterated in this notebook but more information can be found in the README file.\n",
    "\n",
    "The SQLlite3 database contains 3 tables.\n",
    "\n",
    "The first table 'transactions' contains details about each product that a customer has purchased. A transaction is labeled by a 'trans_id' and can contain multiple products. Here are the columns in the 'tra\n",
    "\n",
    "`transactions`: contains detailed information about each product a customer\n",
    "   has purchased.  A transaction consists of one or more products purchased by\n",
    "   a customer indexed by a unique transaction id.\n",
    "   * `trans_id`: the transaction id\n",
    "   * `cust_id`: the customer id\n",
    "   * `prod_id`: the product id\n",
    "   * `item_qty`: the quantity of the product that is being purchased\n",
    "   * `item_price`: the per unit price of the product (NOTE: the total revenue\n",
    "     for a product is `item_qty * item_price`)\n",
    "\n"
   ]
  }
 ],
 "metadata": {
  "kernelspec": {
   "display_name": "Python 3",
   "language": "python",
   "name": "python3"
  },
  "language_info": {
   "codemirror_mode": {
    "name": "ipython",
    "version": 3
   },
   "file_extension": ".py",
   "mimetype": "text/x-python",
   "name": "python",
   "nbconvert_exporter": "python",
   "pygments_lexer": "ipython3",
   "version": "3.7.6"
  }
 },
 "nbformat": 4,
 "nbformat_minor": 4
}
